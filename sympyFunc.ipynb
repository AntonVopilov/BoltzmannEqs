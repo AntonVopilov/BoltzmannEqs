{
 "cells": [
  {
   "cell_type": "code",
   "execution_count": 11,
   "metadata": {},
   "outputs": [],
   "source": [
    "import os\n",
    "from scipy import integrate, interpolate\n",
    "from sympy import exp,besselk,pi,sqrt,Heaviside,sqrt, log, pi\n",
    "from numpy import logspace, log10\n",
    "import numpy as np\n",
    "import sympy as sp\n",
    "import logging\n",
    "logging.basicConfig(level=logging.INFO)\n",
    "logger = logging.getLogger(__name__)\n",
    "import warnings\n",
    "import pickle\n",
    "Tmin,Tmax = 1e-15,1e5 #min and max values for evaluating gSTAR"
   ]
  },
  {
   "cell_type": "code",
   "execution_count": 2,
   "metadata": {},
   "outputs": [
    {
     "name": "stderr",
     "output_type": "stream",
     "text": [
      "INFO:__main__:Loading aux functions. Ignoring BSM corrections to g* and g*_S\n",
      "INFO:pyCode.AuxFuncs:Loading aux functions. Ignoring BSM corrections to g* and g*_S\n"
     ]
    }
   ],
   "source": [
    "#Load auxiliary (pre-computed) functions:\n",
    "\n",
    "if not os.path.isfile('gFunctions.pcl'):\n",
    "    getFunctions('gFunctions.pcl')\n",
    " \n",
    "f = open('gFunctions.pcl','rb')\n",
    "logger.info(\"Loading aux functions. Ignoring BSM corrections to g* and g*_S\")\n",
    "gSTAR = pickle.load(f)\n",
    "gSTARS = pickle.load(f)\n",
    "Tfunc = pickle.load(f)\n",
    "f.close()"
   ]
  },
  {
   "cell_type": "code",
   "execution_count": 25,
   "metadata": {},
   "outputs": [],
   "source": [
    "def getTemperature(x,NS,S0=1.):\n",
    "    \n",
    "    xmin = np.log((2*np.pi**2/45.)*gSTARS(Tmin)*Tmin**3)\n",
    "    xmax = np.log((2*np.pi**2/45.)*gSTARS(Tmax)*Tmax**3)\n",
    "    xeff = NS + np.log(S0) - 3.*x\n",
    "        \n",
    "    if xeff < xmin:  #For T < Tmin, g* is constant\n",
    "        return ((45./(2*np.pi**2))*np.exp(xeff)/gSTARS(Tmin))**(1./3.)\n",
    "    elif xeff > xmax: #For T > Tmax, g* is constant\n",
    "        return ((45./(2*np.pi**2))*np.exp(xeff)/gSTARS(Tmax))**(1./3.)\n",
    "    else:    \n",
    "        return float(Tfunc(xeff))\n",
    "    \n",
    "\n",
    "class Tval(sp.Function):\n",
    "    _imp_ = staticmethod(getTemperature)\n",
    "\n",
    "    def fdiff(self, argindex=2):\n",
    "        if argindex != 2:\n",
    "            return 0\n",
    "        else:\n",
    "            return self/3\n",
    "\n",
    "# class dSigmaVdT(sp.Function):\n",
    "#     _imp_ = staticmethod(lambda T: derivative(sigmaVJan,T,dx=1e-6))"
   ]
  },
  {
   "cell_type": "code",
   "execution_count": 27,
   "metadata": {},
   "outputs": [
    {
     "data": {
      "text/plain": [
       "0.028260479213845172"
      ]
     },
     "execution_count": 27,
     "metadata": {},
     "output_type": "execute_result"
    }
   ],
   "source": [
    "getTemperature(3.,0.)"
   ]
  },
  {
   "cell_type": "code",
   "execution_count": 14,
   "metadata": {},
   "outputs": [],
   "source": [
    "x,NS = sp.symbols('x,NS')"
   ]
  },
  {
   "cell_type": "code",
   "execution_count": 18,
   "metadata": {},
   "outputs": [],
   "source": [
    "f = sp.lambdify([x,NS],Tval(x,NS).diff(NS),modules=['numpy','sympy'])"
   ]
  },
  {
   "cell_type": "code",
   "execution_count": 19,
   "metadata": {},
   "outputs": [
    {
     "data": {
      "text/plain": [
       "0.00942015973794839"
      ]
     },
     "execution_count": 19,
     "metadata": {},
     "output_type": "execute_result"
    }
   ],
   "source": [
    "f(3.,0.)"
   ]
  },
  {
   "cell_type": "code",
   "execution_count": null,
   "metadata": {},
   "outputs": [],
   "source": []
  }
 ],
 "metadata": {
  "kernelspec": {
   "display_name": "Python 3",
   "language": "python",
   "name": "python3"
  },
  "language_info": {
   "codemirror_mode": {
    "name": "ipython",
    "version": 3
   },
   "file_extension": ".py",
   "mimetype": "text/x-python",
   "name": "python",
   "nbconvert_exporter": "python",
   "pygments_lexer": "ipython3",
   "version": "3.7.3"
  }
 },
 "nbformat": 4,
 "nbformat_minor": 2
}
