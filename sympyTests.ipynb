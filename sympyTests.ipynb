{
 "cells": [
  {
   "cell_type": "code",
   "execution_count": 1,
   "metadata": {},
   "outputs": [],
   "source": [
    "import numpy as np\n",
    "import sympy\n",
    "from sympy import exp,besselk,pi,Function,sqrt,Heaviside\n",
    "from mpmath import apery"
   ]
  },
  {
   "cell_type": "code",
   "execution_count": 19,
   "metadata": {},
   "outputs": [],
   "source": [
    "def fdiff(T):\n",
    "\n",
    "    mass = 500.\n",
    "    dof = -2\n",
    "    Zeta3 = apery\n",
    "    x = T/mass\n",
    "    if x <= 0.1:\n",
    "        dneq = mass**2*exp(-1/x)*(256 + 3*x*(288+5*x*(94+49*x)))/(512*sqrt(2)*pi**(3/2)*sqrt(x))\n",
    "    elif x <= 1.5:\n",
    "        dneq = mass**2*(besselk(1,1/x)+3*x*besselk(2,1/x))/(2*pi**2*x)\n",
    "    else:\n",
    "        if dof > 0: dneq = 3*Zeta3*T**2/pi**2   #Relativistic Bosons\n",
    "        if dof < 0: dneq = 3*(3./4.)*Zeta3*T**2/pi**2   #Relativistic Fermions\n",
    "\n",
    "    return dneq*abs(dof)\n",
    "\n",
    "class nEQc(sympy.Function):\n",
    "    \"\"\"Returns the equilibrium number density at temperature T. Returns zero for non-thermal components\"\"\"\n",
    "\n",
    "    nargs = 3\n",
    "            \n",
    "    @classmethod\n",
    "    def eval(cls,T,mass,dof):\n",
    "        \n",
    "        Zeta3 = apery\n",
    "        x = T/mass\n",
    "    \n",
    "        neq = Heaviside(0.1-x,1.)*(mass**3*(x/(2*pi))**(3./2.)*exp(-1/x)*(1. + (15./8.)*x + (105./128.)*x**2))\n",
    "        neq += Heaviside(1.5-x,1.)*Heaviside(x-0.1,0.)*(mass**3*x*besselk(2,1/x)/(2*pi**2))\n",
    "        neq += Heaviside(x-1.5,0.)*(Heaviside(dof,1.)*(Zeta3*T**3/pi**2)+Heaviside(-dof,0.)*(3./4.)*(Zeta3*T**3/pi**2))\n",
    "        neq = neq*abs(dof)\n",
    "        \n",
    "        return neq\n",
    "    \n",
    "    def _eval_is_real(self):\n",
    "        return self.args[0].is_real\n",
    "    \n",
    "T,mass,dof = sympy.symbols('T,mass,dof')\n",
    "nEQ = sympy.lambdify([T,mass,dof],nEQc(T,mass,dof),modules=[{'DiracDelta' : lambda x: 0.},'numpy','sympy'])\n",
    "dnEQ = sympy.lambdify([T,mass,dof],nEQc(T,mass,dof).diff(T),modules=[{'DiracDelta' : lambda x: 0.},'numpy','sympy'])"
   ]
  },
  {
   "cell_type": "code",
   "execution_count": 18,
   "metadata": {},
   "outputs": [
    {
     "data": {
      "text/latex": [
       "$\\displaystyle \\left(\\frac{T mass^{2} \\theta\\left(- \\frac{T}{mass} + 1.5\\right) \\theta\\left(\\frac{T}{mass} - 0.1\\right) K_{2}\\left(\\frac{mass}{T}\\right)}{2 \\pi^{2}} + \\frac{0.353553390593274 mass^{3} \\left(\\frac{T}{mass}\\right)^{1.5} \\left(\\frac{0.8203125 T^{2}}{mass^{2}} + \\frac{1.875 T}{mass} + 1.0\\right) e^{- \\frac{mass}{T}} \\theta\\left(- \\frac{T}{mass} + 0.1\\right)}{\\pi^{1.5}} + \\left(\\frac{0.901542677369696 T^{3} \\theta\\left(- dof\\right)}{\\pi^{2}} + \\frac{1.20205690315959 T^{3} \\theta\\left(dof\\right)}{\\pi^{2}}\\right) \\theta\\left(\\frac{T}{mass} - 1.5\\right)\\right) \\left|{dof}\\right|$"
      ],
      "text/plain": [
       "(T*mass**2*Heaviside(-T/mass + 1.5, 1.0)*Heaviside(T/mass - 0.1, 0.0)*besselk(2, mass/T)/(2*pi**2) + 0.353553390593274*pi**(-1.5)*mass**3*(T/mass)**1.5*(0.8203125*T**2/mass**2 + 1.875*T/mass + 1.0)*exp(-mass/T)*Heaviside(-T/mass + 0.1, 1.0) + (0.901542677369696*T**3*Heaviside(-dof, 0.0)/pi**2 + 1.20205690315959*T**3*Heaviside(dof, 1.0)/pi**2)*Heaviside(T/mass - 1.5, 0.0))*Abs(dof)"
      ]
     },
     "execution_count": 18,
     "metadata": {},
     "output_type": "execute_result"
    }
   ],
   "source": [
    "nEQc(T,mass,dof)"
   ]
  },
  {
   "cell_type": "code",
   "execution_count": 21,
   "metadata": {},
   "outputs": [
    {
     "data": {
      "text/plain": [
       "(6.36018018758805, 328653.271502128)"
      ]
     },
     "execution_count": 21,
     "metadata": {},
     "output_type": "execute_result"
    }
   ],
   "source": [
    "dnEQ(50.,500.,-2.).evalf(),dnEQ(750.,500.,-2.).evalf()"
   ]
  },
  {
   "cell_type": "code",
   "execution_count": 6,
   "metadata": {},
   "outputs": [
    {
     "data": {
      "text/plain": [
       "(6.36018018758805, 328653.271502128)"
      ]
     },
     "execution_count": 6,
     "metadata": {},
     "output_type": "execute_result"
    }
   ],
   "source": [
    "fdiff(50.).evalf(),fdiff(750.).evalf()"
   ]
  },
  {
   "cell_type": "code",
   "execution_count": 7,
   "metadata": {},
   "outputs": [
    {
     "data": {
      "text/latex": [
       "$\\displaystyle 1$"
      ],
      "text/plain": [
       "1"
      ]
     },
     "execution_count": 7,
     "metadata": {},
     "output_type": "execute_result"
    }
   ],
   "source": [
    "nEQc.diff(T)"
   ]
  },
  {
   "cell_type": "code",
   "execution_count": 8,
   "metadata": {},
   "outputs": [
    {
     "data": {
      "text/latex": [
       "$\\displaystyle \\frac{3952847.07521047 \\left(3.28125 \\cdot 10^{-6} T^{2} + 0.00375 T + 1.0\\right) e^{- \\frac{500.0}{T}} \\theta\\left(0.1 - 0.002 T\\right)}{\\pi^{1.5} T^{0.5}} + \\frac{11858.5412256314 T^{0.5} \\left(3.28125 \\cdot 10^{-6} T^{2} + 0.00375 T + 1.0\\right) e^{- \\frac{500.0}{T}} \\theta\\left(0.1 - 0.002 T\\right)}{\\pi^{1.5}} + \\frac{0.00360617070947878 T^{3} \\delta\\left(0.002 T - 1.5\\right)}{\\pi^{2}} + \\frac{5.40925606421817 T^{2} \\theta\\left(0.002 T - 1.5\\right)}{\\pi^{2}} - \\frac{500.0 T \\delta\\left(1.5 - 0.002 T\\right) \\theta\\left(0.002 T - 0.1\\right) K_{2}\\left(\\frac{500.0}{T}\\right)}{\\pi^{2}} + \\frac{500.0 T \\delta\\left(0.002 T - 0.1\\right) \\theta\\left(1.5 - 0.002 T\\right) K_{2}\\left(\\frac{500.0}{T}\\right)}{\\pi^{2}} + \\frac{7905.69415042095 T^{1.5} \\left(6.5625 \\cdot 10^{-6} T + 0.00375\\right) e^{- \\frac{500.0}{T}} \\theta\\left(0.1 - 0.002 T\\right)}{\\pi^{1.5}} - \\frac{15.8113883008419 T^{1.5} \\left(3.28125 \\cdot 10^{-6} T^{2} + 0.00375 T + 1.0\\right) e^{- \\frac{500.0}{T}} \\delta\\left(0.1 - 0.002 T\\right)}{\\pi^{1.5}} + \\frac{250000.0 \\theta\\left(1.5 - 0.002 T\\right) \\theta\\left(0.002 T - 0.1\\right) K_{2}\\left(\\frac{500.0}{T}\\right)}{\\pi^{2}} - \\frac{125000000.0 \\left(- \\frac{K_{1}\\left(\\frac{500.0}{T}\\right)}{2} - \\frac{K_{3}\\left(\\frac{500.0}{T}\\right)}{2}\\right) \\theta\\left(1.5 - 0.002 T\\right) \\theta\\left(0.002 T - 0.1\\right)}{\\pi^{2} T}$"
      ],
      "text/plain": [
       "3952847.07521047*pi**(-1.5)*T**(-0.5)*(3.28125e-6*T**2 + 0.00375*T + 1.0)*exp(-500.0/T)*Heaviside(0.1 - 0.002*T, 1.0) + 11858.5412256314*pi**(-1.5)*T**0.5*(3.28125e-6*T**2 + 0.00375*T + 1.0)*exp(-500.0/T)*Heaviside(0.1 - 0.002*T, 1.0) + 0.00360617070947878*T**3*DiracDelta(0.002*T - 1.5)/pi**2 + 5.40925606421817*T**2*Heaviside(0.002*T - 1.5, 0.0)/pi**2 - 500.0*T*DiracDelta(1.5 - 0.002*T)*Heaviside(0.002*T - 0.1, 0.0)*besselk(2, 500.0/T)/pi**2 + 500.0*T*DiracDelta(0.002*T - 0.1)*Heaviside(1.5 - 0.002*T, 1.0)*besselk(2, 500.0/T)/pi**2 + 7905.69415042095*pi**(-1.5)*T**1.5*(6.5625e-6*T + 0.00375)*exp(-500.0/T)*Heaviside(0.1 - 0.002*T, 1.0) - 15.8113883008419*pi**(-1.5)*T**1.5*(3.28125e-6*T**2 + 0.00375*T + 1.0)*exp(-500.0/T)*DiracDelta(0.1 - 0.002*T) + 250000.0*Heaviside(1.5 - 0.002*T, 1.0)*Heaviside(0.002*T - 0.1, 0.0)*besselk(2, 500.0/T)/pi**2 - 125000000.0*(-besselk(1, 500.0/T)/2 - besselk(3, 500.0/T)/2)*Heaviside(1.5 - 0.002*T, 1.0)*Heaviside(0.002*T - 0.1, 0.0)/(pi**2*T)"
      ]
     },
     "execution_count": 8,
     "metadata": {},
     "output_type": "execute_result"
    }
   ],
   "source": [
    "nEQc(T).diff(T)"
   ]
  },
  {
   "cell_type": "code",
   "execution_count": null,
   "metadata": {},
   "outputs": [],
   "source": []
  }
 ],
 "metadata": {
  "kernelspec": {
   "display_name": "Python 3",
   "language": "python",
   "name": "python3"
  },
  "language_info": {
   "codemirror_mode": {
    "name": "ipython",
    "version": 3
   },
   "file_extension": ".py",
   "mimetype": "text/x-python",
   "name": "python",
   "nbconvert_exporter": "python",
   "pygments_lexer": "ipython3",
   "version": "3.7.3"
  }
 },
 "nbformat": 4,
 "nbformat_minor": 2
}
