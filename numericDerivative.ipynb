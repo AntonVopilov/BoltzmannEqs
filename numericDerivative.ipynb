{
 "cells": [
  {
   "cell_type": "code",
   "execution_count": 1,
   "metadata": {},
   "outputs": [],
   "source": [
    "import sympy as sp\n",
    "import numpy as np\n",
    "from scipy.interpolate import interp1d\n",
    "from scipy.misc import derivative"
   ]
  },
  {
   "cell_type": "code",
   "execution_count": 2,
   "metadata": {},
   "outputs": [],
   "source": [
    "def f(x):\n",
    "    \n",
    "    return x**3\n",
    "\n",
    "def g(z1,z2):\n",
    "    \n",
    "    return z1*z2"
   ]
  },
  {
   "cell_type": "code",
   "execution_count": 3,
   "metadata": {},
   "outputs": [],
   "source": [
    "#Annihilation rate for mediator\n",
    "data = np.genfromtxt('./width_and_medxs.dat',skip_header=5)\n",
    "conv = 0.8579e17\n",
    "\n",
    "sLog = lambda x: interp1d(data[:,0],np.log(data[:,1]*conv),\n",
    "                    fill_value='extrapolate',bounds_error=False)(x)\n",
    "def sigmaVJan(T):\n",
    "    x = 500./T\n",
    "    if x > data[:,0].max():\n",
    "        return 0.\n",
    "    sF = sLog(x)\n",
    "    return np.exp(sF)\n",
    "\n",
    "class sigmaV(sp.Function):\n",
    "    _imp_ = staticmethod(sigmaVJan)\n",
    "\n",
    "    def fdiff(self, argindex=1):\n",
    "        return dSigmaVdT(self.args[0])\n",
    "\n",
    "class dSigmaVdT(sp.Function):\n",
    "    _imp_ = staticmethod(lambda T: derivative(sigmaVJan,T,dx=1e-6))\n",
    "    "
   ]
  },
  {
   "cell_type": "code",
   "execution_count": 4,
   "metadata": {},
   "outputs": [],
   "source": [
    "T = sp.symbols('T')"
   ]
  },
  {
   "cell_type": "code",
   "execution_count": 5,
   "metadata": {},
   "outputs": [
    {
     "data": {
      "text/latex": [
       "$\\displaystyle T^{3} \\operatorname{sigmaV}{\\left(T \\right)}$"
      ],
      "text/plain": [
       "T**3*sigmaV(T)"
      ]
     },
     "execution_count": 5,
     "metadata": {},
     "output_type": "execute_result"
    }
   ],
   "source": [
    "g(sigmaV(T),f(T))"
   ]
  },
  {
   "cell_type": "code",
   "execution_count": 6,
   "metadata": {},
   "outputs": [],
   "source": [
    "fn = sp.lambdify(T,g(sigmaV(T),f(T)))\n",
    "dfn = sp.lambdify(T,g(sigmaV(T),f(T)).diff(T))"
   ]
  },
  {
   "cell_type": "code",
   "execution_count": 7,
   "metadata": {},
   "outputs": [
    {
     "data": {
      "text/plain": [
       "(1.6705016105167147e-05, 5.869713167551047e-06)"
      ]
     },
     "execution_count": 7,
     "metadata": {},
     "output_type": "execute_result"
    }
   ],
   "source": [
    "fn(10.),dfn(10.)"
   ]
  },
  {
   "cell_type": "code",
   "execution_count": 8,
   "metadata": {},
   "outputs": [
    {
     "data": {
      "text/latex": [
       "$\\displaystyle T^{3} \\operatorname{dSigmaVdT}{\\left(T \\right)} + 3 T^{2} \\operatorname{sigmaV}{\\left(T \\right)}$"
      ],
      "text/plain": [
       "T**3*dSigmaVdT(T) + 3*T**2*sigmaV(T)"
      ]
     },
     "execution_count": 8,
     "metadata": {},
     "output_type": "execute_result"
    }
   ],
   "source": [
    "g(sigmaV(T),f(T)).diff(T)"
   ]
  },
  {
   "cell_type": "code",
   "execution_count": 11,
   "metadata": {},
   "outputs": [],
   "source": [
    "?sp.Function"
   ]
  },
  {
   "cell_type": "code",
   "execution_count": null,
   "metadata": {},
   "outputs": [],
   "source": []
  }
 ],
 "metadata": {
  "kernelspec": {
   "display_name": "Python 3",
   "language": "python",
   "name": "python3"
  },
  "language_info": {
   "codemirror_mode": {
    "name": "ipython",
    "version": 3
   },
   "file_extension": ".py",
   "mimetype": "text/x-python",
   "name": "python",
   "nbconvert_exporter": "python",
   "pygments_lexer": "ipython3",
   "version": "3.7.3"
  }
 },
 "nbformat": 4,
 "nbformat_minor": 2
}
