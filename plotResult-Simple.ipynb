{
 "cells": [
  {
   "cell_type": "code",
   "execution_count": 1,
   "metadata": {},
   "outputs": [],
   "source": [
    "import pickle\n",
    "import matplotlib.pyplot as plt\n",
    "import os\n",
    "import numpy as np\n",
    "import seaborn as sns\n",
    "from scipy.special import kn,zetac\n",
    "sns.set() #Set style\n",
    "sns.set_style('ticks',{'font.family':'serif', 'font.serif':'Times New Roman'})\n",
    "sns.set_context('paper', font_scale=1.8)\n",
    "sns.set_palette(sns.color_palette(\"Paired\"))"
   ]
  },
  {
   "cell_type": "code",
   "execution_count": 2,
   "metadata": {},
   "outputs": [],
   "source": [
    "f = open('gFunctions.pcl','rb')\n",
    "gSTAR = pickle.load(f)\n",
    "gSTARS = pickle.load(f)\n",
    "Tfunc = pickle.load(f)\n",
    "f.close()"
   ]
  },
  {
   "cell_type": "code",
   "execution_count": 3,
   "metadata": {},
   "outputs": [],
   "source": [
    "def nEQf(T,dof,mass):\n",
    "    \"\"\"Returns the equilibrium number density at temperature T. Returns zero for non-thermal components\"\"\"\n",
    "\n",
    "    Zeta3 = zetac(3.) + 1.\n",
    "\n",
    "    x = T/mass\n",
    "    if x < 0.1:\n",
    "        neq = mass**3*(x/(2*np.pi))**(3./2.)*np.exp(-1/x)*(1. + (15./8.)*x + (105./128.)*x**2) #Non-relativistic\n",
    "    elif x < 1.5:            \n",
    "        neq = mass**3*x*kn(2,1/x)/(2*np.pi**2) #Non-relativistic/relativistic\n",
    "    else:\n",
    "        if dof > 0: neq = Zeta3*T**3/np.pi**2   #Relativistic Bosons\n",
    "        if dof < 0: neq = (3./4.)*Zeta3*T**3/np.pi**2   #Relativistic Fermions\n",
    "\n",
    "    neq = neq*abs(dof)\n",
    "    return neq\n",
    "\n",
    "nEQ = np.vectorize(nEQf)"
   ]
  },
  {
   "cell_type": "code",
   "execution_count": 4,
   "metadata": {},
   "outputs": [],
   "source": [
    "skiplines = 8\n",
    "# d = np.genfromtxt('testSimple_1.5e-7.dat',names=True,skip_header=skiplines)\n",
    "d = np.genfromtxt('testSimple.dat',names=True,skip_header=skiplines)"
   ]
  },
  {
   "cell_type": "code",
   "execution_count": 5,
   "metadata": {},
   "outputs": [
    {
     "name": "stdout",
     "output_type": "stream",
     "text": [
      "('x', 'T', 'R', 'S', 'n_DM', 'rho_DM')\n"
     ]
    }
   ],
   "source": [
    "print(d.dtype.names)"
   ]
  },
  {
   "cell_type": "code",
   "execution_count": 6,
   "metadata": {},
   "outputs": [],
   "source": [
    "newtype = np.dtype(d.dtype.descr + [('s','<f8'),('neq_DM', '<f8')])\n",
    "newdata = np.zeros(d.shape, dtype=newtype)\n",
    "for name in d.dtype.names:\n",
    "    newdata[name] = d[name]\n",
    "newdata['s'] = d['S']/d['R']**3\n",
    "newdata['neq_DM'] = nEQ(d['T'],-2,500.)\n",
    "d = newdata"
   ]
  },
  {
   "cell_type": "code",
   "execution_count": 7,
   "metadata": {},
   "outputs": [
    {
     "data": {
      "image/png": "[encoded data removed]",
      "text/plain": [
       "<Figure size 432x288 with 1 Axes>"
      ]
     },
     "metadata": {
      "needs_background": "light"
     },
     "output_type": "display_data"
    }
   ],
   "source": [
    "plt.plot(500./d['T'],d['n_DM']/d['s'],label='DM',linewidth=2)\n",
    "plt.plot(500./d['T'],d['neq_DM']/d['s'],'--',label='DM (eq)',linewidth=2)\n",
    "plt.xscale('log')\n",
    "plt.yscale('log')\n",
    "lgd = plt.legend(loc=(1.1,0.9),fontsize=15)\n",
    "plt.ylim(1e-42,1e14)\n",
    "plt.xlim(1e1,1e2)\n",
    "plt.xlabel('x=m/T')\n",
    "plt.ylabel('Yield')\n",
    "# plt.savefig(\"Yield_noConversion.png\", bbox_extra_artists=(lgd,), bbox_inches='tight')\n",
    "plt.show()"
   ]
  },
  {
   "cell_type": "code",
   "execution_count": 11,
   "metadata": {},
   "outputs": [
    {
     "data": {
      "text/plain": [
       "10.0"
      ]
     },
     "execution_count": 11,
     "metadata": {},
     "output_type": "execute_result"
    }
   ],
   "source": [
    "500./50."
   ]
  },
  {
   "cell_type": "code",
   "execution_count": 9,
   "metadata": {},
   "outputs": [],
   "source": [
    "from scipy.interpolate import interp1d\n",
    "\n",
    "def nEQbottom(T):\n",
    "    Zeta3 = 1.20206\n",
    "    return 3*2*(3./4.)*Zeta3*T**3/np.pi**2\n",
    "\n",
    "def nEQgluon(T):\n",
    "    Zeta3 = 1.20206\n",
    "    return 8*2*Zeta3*T**3/np.pi**2\n",
    "\n",
    "#Annihilation rate for mediator\n",
    "data = np.genfromtxt('./width_and_medxs.dat',skip_header=5)\n",
    "conv = 0.8579e17\n",
    "\n",
    "sLog = lambda x: interp1d(data[:,0],np.log(data[:,1]*conv),\n",
    "                    fill_value='extrapolate',bounds_error=False)(x)\n",
    "\n",
    "#Conversion rates for DM and mediator: \n",
    "dofDM = -2 #Number of DM degrees of freedom (Majorana fermion)\n",
    "\n",
    "@np.vectorize\n",
    "def sigmaVJan(T):\n",
    "    x = 500./T\n",
    "    if x > data[:,0].max():\n",
    "        return 0.\n",
    "    sF = sLog(x)\n",
    "    return np.exp(sF)"
   ]
  },
  {
   "cell_type": "code",
   "execution_count": 10,
   "metadata": {},
   "outputs": [
    {
     "data": {
      "text/plain": [
       "1.315050565673364e-31"
      ]
     },
     "execution_count": 10,
     "metadata": {},
     "output_type": "execute_result"
    }
   ],
   "source": [
    "T=5.\n",
    "MP = 1.22*10**19\n",
    "H = np.sqrt(8.*np.pi**3*gSTAR(T)/90.)*T**2/MP\n",
    "sigmaVJan(T)*nEQ(T,-2,500.)/H"
   ]
  },
  {
   "cell_type": "code",
   "execution_count": null,
   "metadata": {},
   "outputs": [],
   "source": []
  }
 ],
 "metadata": {
  "kernelspec": {
   "display_name": "Python 3",
   "language": "python",
   "name": "python3"
  },
  "language_info": {
   "codemirror_mode": {
    "name": "ipython",
    "version": 3
   },
   "file_extension": ".py",
   "mimetype": "text/x-python",
   "name": "python",
   "nbconvert_exporter": "python",
   "pygments_lexer": "ipython3",
   "version": "3.7.3"
  }
 },
 "nbformat": 4,
 "nbformat_minor": 2
}
