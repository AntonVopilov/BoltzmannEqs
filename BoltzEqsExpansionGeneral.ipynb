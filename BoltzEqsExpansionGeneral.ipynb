{
 "cells": [
  {
   "cell_type": "code",
   "execution_count": 1,
   "metadata": {},
   "outputs": [],
   "source": [
    "import sympy as sp"
   ]
  },
  {
   "cell_type": "markdown",
   "metadata": {},
   "source": [
    "### Parameters and Variables"
   ]
  },
  {
   "cell_type": "code",
   "execution_count": 2,
   "metadata": {},
   "outputs": [],
   "source": [
    "#Variables\n",
    "x,T = sp.symbols('x,T', real=True, positive=True)\n",
    "#Parameters\n",
    "w = sp.IndexedBase('\\Gamma', real=True, positive=True)\n",
    "m = sp.IndexedBase('m', real=True, positive=True)\n",
    "i,j,l,k = sp.symbols('i j l k', integer=True)\n",
    "nDec, nF = sp.symbols('n_{dec}, n_{F}', integer=True)\n",
    "nComp = sp.symbols('n_{comp}', integer=True)\n",
    "g = sp.IndexedBase('g')\n",
    "BR = sp.IndexedBase(r'BR')"
   ]
  },
  {
   "cell_type": "markdown",
   "metadata": {},
   "source": [
    "### Functions"
   ]
  },
  {
   "cell_type": "code",
   "execution_count": 3,
   "metadata": {},
   "outputs": [],
   "source": [
    "n = sp.IndexedBase(r'n')\n",
    "neq = sp.IndexedBase(r'\\bar{n}')\n",
    "d = sp.IndexedBase(r'\\delta')\n",
    "D = sp.IndexedBase(r'\\Delta')\n",
    "Nth = sp.IndexedBase(r'\\mathcal{N}^{th}')\n",
    "N0th = sp.IndexedBase(r'\\mathcal{N}^{0th}')\n",
    "N1th = sp.IndexedBase(r'\\mathcal{N}^{1th}')"
   ]
  },
  {
   "cell_type": "code",
   "execution_count": 4,
   "metadata": {},
   "outputs": [],
   "source": [
    "#Functions\n",
    "NS = sp.symbols(r'N_S', cls=sp.Symbol)\n",
    "R = sp.IndexedBase(r'R')\n",
    "Pn = sp.IndexedBase(r'P_{n}')\n",
    "H = sp.symbols('H', cls=sp.Symbol)\n",
    "sv = sp.IndexedBase(r'\\langle\\sigma\\text{v}\\rangle')\n",
    "crate = sp.IndexedBase(r'\\tilde{\\Gamma}_{SM}')\n",
    "Beff = sp.IndexedBase(r'\\mathcal{B}^{eff}')"
   ]
  },
  {
   "cell_type": "code",
   "execution_count": 5,
   "metadata": {},
   "outputs": [],
   "source": [
    "#Terms to be collected\n",
    "coll = (crate[i,j],w[i],Beff[i,j],Beff[j,i],sv[j,j],sv[i,j],sv[i,i])"
   ]
  },
  {
   "cell_type": "markdown",
   "metadata": {},
   "source": [
    "## Number Density Equations:"
   ]
  },
  {
   "cell_type": "code",
   "execution_count": 6,
   "metadata": {},
   "outputs": [],
   "source": [
    "dNi = -3 \n",
    "dNi += (n[i]/H)*(neq[i]**2/n[i]**2-1)*sv[i,i]\n",
    "dNi += (1/H)*(neq[i]*neq[j]/n[i]-n[j])*sv[i,j]\n",
    "dNi += (n[i]/H)*(neq[i]**2*n[j]**2/(n[i]**2*neq[j]**2)-1)*sv[j,j]\n",
    "dNi += (1/H)*(neq[i]*n[j]/(n[i]*neq[j])-1)*crate[i,j]\n",
    "dNi += -(w[i]*m[i]/(H*R[i]))*(1-Nth[i]/n[i])\n",
    "dNi += Beff[j,i]*(w[j]*m[j]/(H*R[j]))*(n[j]/n[i] - Nth[j,i]/n[i])\n",
    "dNi = sp.collect(dNi,coll)"
   ]
  },
  {
   "cell_type": "code",
   "execution_count": 7,
   "metadata": {
    "scrolled": true
   },
   "outputs": [
    {
     "data": {
      "text/latex": [
       "$\\displaystyle -3 + \\frac{\\left(\\frac{{\\bar{n}}_{i}^{2}}{{n}_{i}^{2}} - 1\\right) {\\langle\\sigma\\text{v}\\rangle}_{i,i} {n}_{i}}{H} - \\frac{\\left(- \\frac{{\\mathcal{N}^{th}}_{i}}{{n}_{i}} + 1\\right) {\\Gamma}_{i} {m}_{i}}{H {R}_{i}} + \\frac{\\left(- \\frac{{\\mathcal{N}^{th}}_{j,i}}{{n}_{i}} + \\frac{{n}_{j}}{{n}_{i}}\\right) {\\Gamma}_{j} {\\mathcal{B}^{eff}}_{j,i} {m}_{j}}{H {R}_{j}} + \\frac{\\left(\\frac{{\\bar{n}}_{i} {\\bar{n}}_{j}}{{n}_{i}} - {n}_{j}\\right) {\\langle\\sigma\\text{v}\\rangle}_{i,j}}{H} + \\frac{\\left(\\frac{{\\bar{n}}_{i} {n}_{j}}{{\\bar{n}}_{j} {n}_{i}} - 1\\right) {\\tilde{\\Gamma}_{SM}}_{i,j}}{H} + \\frac{\\left(\\frac{{\\bar{n}}_{i}^{2} {n}_{j}^{2}}{{\\bar{n}}_{j}^{2} {n}_{i}^{2}} - 1\\right) {\\langle\\sigma\\text{v}\\rangle}_{j,j} {n}_{i}}{H}$"
      ],
      "text/plain": [
       "-3 + (\\bar{n}[i]**2/n[i]**2 - 1)*\\langle\\sigma\\text{v}\\rangle[i, i]*n[i]/H - (-\\mathcal{N}^{th}[i]/n[i] + 1)*\\Gamma[i]*m[i]/(H*R[i]) + (-\\mathcal{N}^{th}[j, i]/n[i] + n[j]/n[i])*\\Gamma[j]*\\mathcal{B}^{eff}[j, i]*m[j]/(H*R[j]) + (\\bar{n}[i]*\\bar{n}[j]/n[i] - n[j])*\\langle\\sigma\\text{v}\\rangle[i, j]/H + (\\bar{n}[i]*n[j]/(\\bar{n}[j]*n[i]) - 1)*\\tilde{\\Gamma}_{SM}[i, j]/H + (\\bar{n}[i]**2*n[j]**2/(\\bar{n}[j]**2*n[i]**2) - 1)*\\langle\\sigma\\text{v}\\rangle[j, j]*n[i]/H"
      ]
     },
     "execution_count": 7,
     "metadata": {},
     "output_type": "execute_result"
    }
   ],
   "source": [
    "sp.collect(dNi,coll)"
   ]
  },
  {
   "cell_type": "markdown",
   "metadata": {},
   "source": [
    "### Expansion of equations"
   ]
  },
  {
   "cell_type": "code",
   "execution_count": 8,
   "metadata": {},
   "outputs": [],
   "source": [
    "#Replace n -> neq(1+delta) + Delta\n",
    "#Coupled regime: Delta = 0, delta << 1 (expansion up to first order in delta)\n",
    "#Non-coupled regime: delta = 0 (expansion up to order zero in delta)\n",
    "#General scenario: expansion up to first order in delta and set delta_i*Delta_i = 0\n",
    "dNiGeneral = dNi.subs({n[i] : neq[i]*(1+d[i])+D[i],n[j] : neq[j]*(1+d[j])+D[j]})\n",
    "dNiGeneral = sp.collect(sp.expand(dNiGeneral).subs({d[i]*D[i] : 0, d[j]*D[j] : 0}),coll)"
   ]
  },
  {
   "cell_type": "code",
   "execution_count": 9,
   "metadata": {},
   "outputs": [],
   "source": [
    "#Zero order term:\n",
    "dNiGeneral0 = dNiGeneral.taylor_term(0,d[i]).taylor_term(0,d[j])\n",
    "#First order term (1st order in delta_i with Delta_i = 0 + 1st order in delta_j with Delta_j=0)\n",
    "dNiGeneral1 = dNiGeneral.taylor_term(1,d[i]).subs({D[i] : 0}).taylor_term(0,d[j])\n",
    "dNiGeneral1 += dNiGeneral.taylor_term(0,d[i]).taylor_term(1,d[j]).subs({D[j] : 0})"
   ]
  },
  {
   "cell_type": "code",
   "execution_count": 10,
   "metadata": {},
   "outputs": [
    {
     "data": {
      "text/latex": [
       "$\\displaystyle -3 + \\frac{\\left(- \\left({\\Delta}_{i} + {\\bar{n}}_{i}\\right) \\left({\\Delta}_{j} + {\\bar{n}}_{j}\\right) + {\\bar{n}}_{i} {\\bar{n}}_{j}\\right) {\\langle\\sigma\\text{v}\\rangle}_{i,j}}{H \\left({\\Delta}_{i} + {\\bar{n}}_{i}\\right)} + \\frac{\\left(- {\\Delta}_{i} {\\bar{n}}_{j} + {\\Delta}_{j} {\\bar{n}}_{i}\\right) {\\tilde{\\Gamma}_{SM}}_{i,j}}{H \\left({\\Delta}_{i} + {\\bar{n}}_{i}\\right) {\\bar{n}}_{j}} - \\frac{\\left({\\Delta}_{i} + 2 {\\bar{n}}_{i}\\right) {\\Delta}_{i} {\\langle\\sigma\\text{v}\\rangle}_{i,i}}{H \\left({\\Delta}_{i} + {\\bar{n}}_{i}\\right)} + \\frac{\\left(- {\\Delta}_{i} - {\\bar{n}}_{i} + {\\mathcal{N}^{th}}_{i}\\right) {\\Gamma}_{i} {m}_{i}}{H \\left({\\Delta}_{i} + {\\bar{n}}_{i}\\right) {R}_{i}} + \\frac{\\left({\\Delta}_{j} + {\\bar{n}}_{j} - {\\mathcal{N}^{th}}_{j,i}\\right) {\\Gamma}_{j} {\\mathcal{B}^{eff}}_{j,i} {m}_{j}}{H \\left({\\Delta}_{i} + {\\bar{n}}_{i}\\right) {R}_{j}} + \\frac{\\left(- {\\Delta}_{i}^{2} {\\bar{n}}_{j}^{2} - 2 {\\Delta}_{i} {\\bar{n}}_{i} {\\bar{n}}_{j}^{2} + {\\Delta}_{j}^{2} {\\bar{n}}_{i}^{2} + 2 {\\Delta}_{j} {\\bar{n}}_{i}^{2} {\\bar{n}}_{j}\\right) {\\langle\\sigma\\text{v}\\rangle}_{j,j}}{H \\left({\\Delta}_{i} + {\\bar{n}}_{i}\\right) {\\bar{n}}_{j}^{2}}$"
      ],
      "text/plain": [
       "-3 + (-(\\Delta[i] + \\bar{n}[i])*(\\Delta[j] + \\bar{n}[j]) + \\bar{n}[i]*\\bar{n}[j])*\\langle\\sigma\\text{v}\\rangle[i, j]/(H*(\\Delta[i] + \\bar{n}[i])) + (-\\Delta[i]*\\bar{n}[j] + \\Delta[j]*\\bar{n}[i])*\\tilde{\\Gamma}_{SM}[i, j]/(H*(\\Delta[i] + \\bar{n}[i])*\\bar{n}[j]) - (\\Delta[i] + 2*\\bar{n}[i])*\\Delta[i]*\\langle\\sigma\\text{v}\\rangle[i, i]/(H*(\\Delta[i] + \\bar{n}[i])) + (-\\Delta[i] - \\bar{n}[i] + \\mathcal{N}^{th}[i])*\\Gamma[i]*m[i]/(H*(\\Delta[i] + \\bar{n}[i])*R[i]) + (\\Delta[j] + \\bar{n}[j] - \\mathcal{N}^{th}[j, i])*\\Gamma[j]*\\mathcal{B}^{eff}[j, i]*m[j]/(H*(\\Delta[i] + \\bar{n}[i])*R[j]) + (-\\Delta[i]**2*\\bar{n}[j]**2 - 2*\\Delta[i]*\\bar{n}[i]*\\bar{n}[j]**2 + \\Delta[j]**2*\\bar{n}[i]**2 + 2*\\Delta[j]*\\bar{n}[i]**2*\\bar{n}[j])*\\langle\\sigma\\text{v}\\rangle[j, j]/(H*(\\Delta[i] + \\bar{n}[i])*\\bar{n}[j]**2)"
      ]
     },
     "execution_count": 10,
     "metadata": {},
     "output_type": "execute_result"
    }
   ],
   "source": [
    "exp0 = -3\n",
    "for term in coll:\n",
    "    exp0 += sp.simplify(dNiGeneral0.coeff(term,1))*term\n",
    "exp0"
   ]
  },
  {
   "cell_type": "code",
   "execution_count": 11,
   "metadata": {},
   "outputs": [
    {
     "data": {
      "text/latex": [
       "$\\displaystyle 0$"
      ],
      "text/plain": [
       "0"
      ]
     },
     "execution_count": 11,
     "metadata": {},
     "output_type": "execute_result"
    }
   ],
   "source": [
    "sp.simplify(exp0-dNiGeneral0)"
   ]
  },
  {
   "cell_type": "code",
   "execution_count": 12,
   "metadata": {},
   "outputs": [
    {
     "data": {
      "text/latex": [
       "$\\displaystyle \\left(- \\frac{{\\bar{n}}_{j} {\\langle\\sigma\\text{v}\\rangle}_{i,j}}{H} + \\frac{2 {\\bar{n}}_{i}^{2} {\\langle\\sigma\\text{v}\\rangle}_{j,j}}{H \\left({\\Delta}_{i} + {\\bar{n}}_{i}\\right)} + \\frac{{\\bar{n}}_{i} {\\tilde{\\Gamma}_{SM}}_{i,j}}{H \\left({\\Delta}_{i} + {\\bar{n}}_{i}\\right)} + \\frac{{\\Gamma}_{j} {\\bar{n}}_{j} {\\mathcal{B}^{eff}}_{j,i} {m}_{j}}{H \\left({\\Delta}_{i} + {\\bar{n}}_{i}\\right) {R}_{j}}\\right) {\\delta}_{j} + \\left(- \\frac{\\left({\\Delta}_{j} + {\\bar{n}}_{j}\\right) {\\tilde{\\Gamma}_{SM}}_{i,j}}{H {\\bar{n}}_{j}} + \\frac{\\left(- {\\Delta}_{j} - {\\bar{n}}_{j} + {\\mathcal{N}^{th}}_{j,i}\\right) {\\Gamma}_{j} {\\mathcal{B}^{eff}}_{j,i} {m}_{j}}{H {R}_{j} {\\bar{n}}_{i}} - \\frac{\\left({\\Delta}_{j}^{2} + 2 {\\Delta}_{j} {\\bar{n}}_{j} + 2 {\\bar{n}}_{j}^{2}\\right) {\\bar{n}}_{i} {\\langle\\sigma\\text{v}\\rangle}_{j,j}}{H {\\bar{n}}_{j}^{2}} - \\frac{2 {\\bar{n}}_{i} {\\langle\\sigma\\text{v}\\rangle}_{i,i}}{H} - \\frac{{\\bar{n}}_{j} {\\langle\\sigma\\text{v}\\rangle}_{i,j}}{H} - \\frac{{\\Gamma}_{i} {\\mathcal{N}^{th}}_{i} {m}_{i}}{H {R}_{i} {\\bar{n}}_{i}}\\right) {\\delta}_{i}$"
      ],
      "text/plain": [
       "(-\\bar{n}[j]*\\langle\\sigma\\text{v}\\rangle[i, j]/H + 2*\\bar{n}[i]**2*\\langle\\sigma\\text{v}\\rangle[j, j]/(H*(\\Delta[i] + \\bar{n}[i])) + \\bar{n}[i]*\\tilde{\\Gamma}_{SM}[i, j]/(H*(\\Delta[i] + \\bar{n}[i])) + \\Gamma[j]*\\bar{n}[j]*\\mathcal{B}^{eff}[j, i]*m[j]/(H*(\\Delta[i] + \\bar{n}[i])*R[j]))*\\delta[j] + (-(\\Delta[j] + \\bar{n}[j])*\\tilde{\\Gamma}_{SM}[i, j]/(H*\\bar{n}[j]) + (-\\Delta[j] - \\bar{n}[j] + \\mathcal{N}^{th}[j, i])*\\Gamma[j]*\\mathcal{B}^{eff}[j, i]*m[j]/(H*R[j]*\\bar{n}[i]) - (\\Delta[j]**2 + 2*\\Delta[j]*\\bar{n}[j] + 2*\\bar{n}[j]**2)*\\bar{n}[i]*\\langle\\sigma\\text{v}\\rangle[j, j]/(H*\\bar{n}[j]**2) - 2*\\bar{n}[i]*\\langle\\sigma\\text{v}\\rangle[i, i]/H - \\bar{n}[j]*\\langle\\sigma\\text{v}\\rangle[i, j]/H - \\Gamma[i]*\\mathcal{N}^{th}[i]*m[i]/(H*R[i]*\\bar{n}[i]))*\\delta[i]"
      ]
     },
     "execution_count": 12,
     "metadata": {},
     "output_type": "execute_result"
    }
   ],
   "source": [
    "exp1 = 0\n",
    "for dterm in (d[i],d[j]):\n",
    "    for term in coll:\n",
    "        exp1 += sp.simplify(dNiGeneral1.coeff(dterm,1).coeff(term))*term*dterm\n",
    "sp.collect(exp1,(d[i],d[j]))"
   ]
  },
  {
   "cell_type": "code",
   "execution_count": 13,
   "metadata": {},
   "outputs": [
    {
     "data": {
      "text/latex": [
       "$\\displaystyle 0$"
      ],
      "text/plain": [
       "0"
      ]
     },
     "execution_count": 13,
     "metadata": {},
     "output_type": "execute_result"
    }
   ],
   "source": [
    "sp.simplify(exp1-dNiGeneral1)"
   ]
  },
  {
   "cell_type": "markdown",
   "metadata": {},
   "source": [
    "### Check limits"
   ]
  },
  {
   "cell_type": "markdown",
   "metadata": {},
   "source": [
    "#### Coupled Regime"
   ]
  },
  {
   "cell_type": "code",
   "execution_count": 14,
   "metadata": {},
   "outputs": [
    {
     "data": {
      "text/latex": [
       "$\\displaystyle \\frac{- 3 H {R}_{i} {R}_{j} {\\bar{n}}_{i} {\\bar{n}}_{j}^{2} - \\left({\\bar{n}}_{i} - {\\mathcal{N}^{th}}_{i}\\right) {R}_{j} {\\Gamma}_{i} {\\bar{n}}_{j}^{2} {m}_{i} - \\left({\\bar{n}}_{j} - {n}_{j}\\right) \\left({\\bar{n}}_{j} + {n}_{j}\\right) {R}_{i} {R}_{j} {\\bar{n}}_{i}^{2} {\\langle\\sigma\\text{v}\\rangle}_{j,j} + \\left({\\bar{n}}_{j} - {n}_{j}\\right) {R}_{i} {R}_{j} {\\bar{n}}_{i} {\\bar{n}}_{j}^{2} {\\langle\\sigma\\text{v}\\rangle}_{i,j} - \\left({\\bar{n}}_{j} - {n}_{j}\\right) {R}_{i} {R}_{j} {\\bar{n}}_{i} {\\bar{n}}_{j} {\\tilde{\\Gamma}_{SM}}_{i,j} - \\left({\\mathcal{N}^{th}}_{j,i} - {n}_{j}\\right) {R}_{i} {\\Gamma}_{j} {\\bar{n}}_{j}^{2} {\\mathcal{B}^{eff}}_{j,i} {m}_{j} + \\left(- \\left(2 {\\bar{n}}_{i} {\\langle\\sigma\\text{v}\\rangle}_{i,i} + {\\bar{n}}_{j} {\\langle\\sigma\\text{v}\\rangle}_{i,j}\\right) {R}_{i} {R}_{j} {\\bar{n}}_{i} {\\bar{n}}_{j}^{2} - \\left(- {\\mathcal{N}^{th}}_{j,i} + {n}_{j}\\right) {R}_{i} {\\Gamma}_{j} {\\bar{n}}_{j}^{2} {\\mathcal{B}^{eff}}_{j,i} {m}_{j} - \\left(\\left({\\bar{n}}_{j} - {n}_{j}\\right)^{2} - 2 \\left({\\bar{n}}_{j} - {n}_{j}\\right) {\\bar{n}}_{j} + 2 {\\bar{n}}_{j}^{2}\\right) {R}_{i} {R}_{j} {\\bar{n}}_{i}^{2} {\\langle\\sigma\\text{v}\\rangle}_{j,j} - {R}_{i} {R}_{j} {\\bar{n}}_{i} {\\bar{n}}_{j} {\\tilde{\\Gamma}_{SM}}_{i,j} {n}_{j} - {R}_{j} {\\Gamma}_{i} {\\bar{n}}_{j}^{2} {\\mathcal{N}^{th}}_{i} {m}_{i}\\right) {\\delta}_{i}}{H {R}_{i} {R}_{j} {\\bar{n}}_{i} {\\bar{n}}_{j}^{2}}$"
      ],
      "text/plain": [
       "(-3*H*R[i]*R[j]*\\bar{n}[i]*\\bar{n}[j]**2 - (\\bar{n}[i] - \\mathcal{N}^{th}[i])*R[j]*\\Gamma[i]*\\bar{n}[j]**2*m[i] - (\\bar{n}[j] - n[j])*(\\bar{n}[j] + n[j])*R[i]*R[j]*\\bar{n}[i]**2*\\langle\\sigma\\text{v}\\rangle[j, j] + (\\bar{n}[j] - n[j])*R[i]*R[j]*\\bar{n}[i]*\\bar{n}[j]**2*\\langle\\sigma\\text{v}\\rangle[i, j] - (\\bar{n}[j] - n[j])*R[i]*R[j]*\\bar{n}[i]*\\bar{n}[j]*\\tilde{\\Gamma}_{SM}[i, j] - (\\mathcal{N}^{th}[j, i] - n[j])*R[i]*\\Gamma[j]*\\bar{n}[j]**2*\\mathcal{B}^{eff}[j, i]*m[j] + (-(2*\\bar{n}[i]*\\langle\\sigma\\text{v}\\rangle[i, i] + \\bar{n}[j]*\\langle\\sigma\\text{v}\\rangle[i, j])*R[i]*R[j]*\\bar{n}[i]*\\bar{n}[j]**2 - (-\\mathcal{N}^{th}[j, i] + n[j])*R[i]*\\Gamma[j]*\\bar{n}[j]**2*\\mathcal{B}^{eff}[j, i]*m[j] - ((\\bar{n}[j] - n[j])**2 - 2*(\\bar{n}[j] - n[j])*\\bar{n}[j] + 2*\\bar{n}[j]**2)*R[i]*R[j]*\\bar{n}[i]**2*\\langle\\sigma\\text{v}\\rangle[j, j] - R[i]*R[j]*\\bar{n}[i]*\\bar{n}[j]*\\tilde{\\Gamma}_{SM}[i, j]*n[j] - R[j]*\\Gamma[i]*\\bar{n}[j]**2*\\mathcal{N}^{th}[i]*m[i])*\\delta[i])/(H*R[i]*R[j]*\\bar{n}[i]*\\bar{n}[j]**2)"
      ]
     },
     "execution_count": 14,
     "metadata": {},
     "output_type": "execute_result"
    }
   ],
   "source": [
    "dNiCoupled = (dNiGeneral0+ dNiGeneral1).replace(D[i],0).replace(d[j],0).replace(D[j],n[j]-neq[j])\n",
    "sp.collect(sp.collect(sp.simplify(dNiCoupled),d[i]),coll)"
   ]
  },
  {
   "cell_type": "markdown",
   "metadata": {},
   "source": [
    "#### Doubly Coupled Regime"
   ]
  },
  {
   "cell_type": "code",
   "execution_count": 15,
   "metadata": {},
   "outputs": [
    {
     "data": {
      "text/latex": [
       "$\\displaystyle \\left(- \\frac{{m}_{i}}{H {R}_{i}} + \\frac{{\\mathcal{N}^{th}}_{i} {m}_{i}}{H {R}_{i} {\\bar{n}}_{i}}\\right) {\\Gamma}_{i} + \\left(\\frac{{\\Gamma}_{j} {\\bar{n}}_{j} {m}_{j}}{H {R}_{j} {\\bar{n}}_{i}} - \\frac{{\\Gamma}_{j} {\\mathcal{N}^{th}}_{j,i} {m}_{j}}{H {R}_{j} {\\bar{n}}_{i}}\\right) {\\mathcal{B}^{eff}}_{j,i} + \\left(\\frac{2 {\\bar{n}}_{i} {\\langle\\sigma\\text{v}\\rangle}_{j,j}}{H} - \\frac{{\\bar{n}}_{j} {\\langle\\sigma\\text{v}\\rangle}_{i,j}}{H} + \\frac{{\\tilde{\\Gamma}_{SM}}_{i,j}}{H} + \\frac{{\\Gamma}_{j} {\\bar{n}}_{j} {\\mathcal{B}^{eff}}_{j,i} {m}_{j}}{H {R}_{j} {\\bar{n}}_{i}}\\right) {\\delta}_{j} + \\left(\\left(- \\frac{{\\Gamma}_{j} {\\bar{n}}_{j} {m}_{j}}{H {R}_{j} {\\bar{n}}_{i}} + \\frac{{\\Gamma}_{j} {\\mathcal{N}^{th}}_{j,i} {m}_{j}}{H {R}_{j} {\\bar{n}}_{i}}\\right) {\\mathcal{B}^{eff}}_{j,i} - \\frac{2 {\\bar{n}}_{i} {\\langle\\sigma\\text{v}\\rangle}_{i,i}}{H} - \\frac{2 {\\bar{n}}_{i} {\\langle\\sigma\\text{v}\\rangle}_{j,j}}{H} - \\frac{{\\bar{n}}_{j} {\\langle\\sigma\\text{v}\\rangle}_{i,j}}{H} - \\frac{{\\tilde{\\Gamma}_{SM}}_{i,j}}{H} - \\frac{{\\Gamma}_{i} {\\mathcal{N}^{th}}_{i} {m}_{i}}{H {R}_{i} {\\bar{n}}_{i}}\\right) {\\delta}_{i} - 3$"
      ],
      "text/plain": [
       "(-m[i]/(H*R[i]) + \\mathcal{N}^{th}[i]*m[i]/(H*R[i]*\\bar{n}[i]))*\\Gamma[i] + (\\Gamma[j]*\\bar{n}[j]*m[j]/(H*R[j]*\\bar{n}[i]) - \\Gamma[j]*\\mathcal{N}^{th}[j, i]*m[j]/(H*R[j]*\\bar{n}[i]))*\\mathcal{B}^{eff}[j, i] + (2*\\bar{n}[i]*\\langle\\sigma\\text{v}\\rangle[j, j]/H - \\bar{n}[j]*\\langle\\sigma\\text{v}\\rangle[i, j]/H + \\tilde{\\Gamma}_{SM}[i, j]/H + \\Gamma[j]*\\bar{n}[j]*\\mathcal{B}^{eff}[j, i]*m[j]/(H*R[j]*\\bar{n}[i]))*\\delta[j] + ((-\\Gamma[j]*\\bar{n}[j]*m[j]/(H*R[j]*\\bar{n}[i]) + \\Gamma[j]*\\mathcal{N}^{th}[j, i]*m[j]/(H*R[j]*\\bar{n}[i]))*\\mathcal{B}^{eff}[j, i] - 2*\\bar{n}[i]*\\langle\\sigma\\text{v}\\rangle[i, i]/H - 2*\\bar{n}[i]*\\langle\\sigma\\text{v}\\rangle[j, j]/H - \\bar{n}[j]*\\langle\\sigma\\text{v}\\rangle[i, j]/H - \\tilde{\\Gamma}_{SM}[i, j]/H - \\Gamma[i]*\\mathcal{N}^{th}[i]*m[i]/(H*R[i]*\\bar{n}[i]))*\\delta[i] - 3"
      ]
     },
     "execution_count": 15,
     "metadata": {},
     "output_type": "execute_result"
    }
   ],
   "source": [
    "dNiCoupled = (dNiGeneral0+ dNiGeneral1).replace(D[i],0).replace(D[j],0)\n",
    "sp.collect(sp.collect(dNiCoupled,(d[i],d[j])),coll)"
   ]
  },
  {
   "cell_type": "markdown",
   "metadata": {},
   "source": [
    "#### Decoupled Regime"
   ]
  },
  {
   "cell_type": "code",
   "execution_count": 16,
   "metadata": {},
   "outputs": [
    {
     "data": {
      "text/latex": [
       "$\\displaystyle \\left(\\frac{{\\bar{n}}_{i}^{2}}{H {n}_{i}} - \\frac{{n}_{i}}{H}\\right) {\\langle\\sigma\\text{v}\\rangle}_{i,i} + \\left(\\frac{{\\bar{n}}_{i} {\\bar{n}}_{j}}{H {n}_{i}} - \\frac{{n}_{j}}{H}\\right) {\\langle\\sigma\\text{v}\\rangle}_{i,j} + \\left(\\frac{{\\mathcal{N}^{th}}_{i} {m}_{i}}{H {R}_{i} {n}_{i}} - \\frac{{m}_{i}}{H {R}_{i}}\\right) {\\Gamma}_{i} + \\left(\\frac{{\\bar{n}}_{i} {n}_{j}}{H {\\bar{n}}_{j} {n}_{i}} - \\frac{1}{H}\\right) {\\tilde{\\Gamma}_{SM}}_{i,j} + \\left(\\frac{{\\bar{n}}_{i}^{2} {n}_{j}^{2}}{H {\\bar{n}}_{j}^{2} {n}_{i}} - \\frac{{n}_{i}}{H}\\right) {\\langle\\sigma\\text{v}\\rangle}_{j,j} + \\left(- \\frac{{\\Gamma}_{j} {\\mathcal{N}^{th}}_{j,i} {m}_{j}}{H {R}_{j} {n}_{i}} + \\frac{{\\Gamma}_{j} {m}_{j} {n}_{j}}{H {R}_{j} {n}_{i}}\\right) {\\mathcal{B}^{eff}}_{j,i} - 3$"
      ],
      "text/plain": [
       "(\\bar{n}[i]**2/(H*n[i]) - n[i]/H)*\\langle\\sigma\\text{v}\\rangle[i, i] + (\\bar{n}[i]*\\bar{n}[j]/(H*n[i]) - n[j]/H)*\\langle\\sigma\\text{v}\\rangle[i, j] + (\\mathcal{N}^{th}[i]*m[i]/(H*R[i]*n[i]) - m[i]/(H*R[i]))*\\Gamma[i] + (\\bar{n}[i]*n[j]/(H*\\bar{n}[j]*n[i]) - 1/H)*\\tilde{\\Gamma}_{SM}[i, j] + (\\bar{n}[i]**2*n[j]**2/(H*\\bar{n}[j]**2*n[i]) - n[i]/H)*\\langle\\sigma\\text{v}\\rangle[j, j] + (-\\Gamma[j]*\\mathcal{N}^{th}[j, i]*m[j]/(H*R[j]*n[i]) + \\Gamma[j]*m[j]*n[j]/(H*R[j]*n[i]))*\\mathcal{B}^{eff}[j, i] - 3"
      ]
     },
     "execution_count": 16,
     "metadata": {},
     "output_type": "execute_result"
    }
   ],
   "source": [
    "dNiDeCoupled = (dNiGeneral0+ dNiGeneral1).replace(d[i],0).replace(d[j],0).replace(D[i],n[i]-neq[i]).replace(D[j],n[j]-neq[j])\n",
    "sp.collect(sp.simplify(dNiDeCoupled),coll)"
   ]
  },
  {
   "cell_type": "markdown",
   "metadata": {},
   "source": [
    "## Energy Ratio Equations:"
   ]
  },
  {
   "cell_type": "code",
   "execution_count": 17,
   "metadata": {},
   "outputs": [],
   "source": [
    "dRi = -3 *Pn[i]\n",
    "dRi += Beff[j,i]*(w[j]*m[j]/H)*(sp.Rational(1,2) - R[i]/R[j])*(n[j]/n[i] - Nth[j,i]/n[i])\n",
    "dRi = sp.collect(dRi,coll)"
   ]
  },
  {
   "cell_type": "code",
   "execution_count": 18,
   "metadata": {
    "scrolled": true
   },
   "outputs": [
    {
     "data": {
      "text/latex": [
       "$\\displaystyle - 3 {P_{n}}_{i} + \\frac{\\left(- \\frac{{R}_{i}}{{R}_{j}} + \\frac{1}{2}\\right) \\left(- \\frac{{\\mathcal{N}^{th}}_{j,i}}{{n}_{i}} + \\frac{{n}_{j}}{{n}_{i}}\\right) {\\Gamma}_{j} {\\mathcal{B}^{eff}}_{j,i} {m}_{j}}{H}$"
      ],
      "text/plain": [
       "-3*P_{n}[i] + (-R[i]/R[j] + 1/2)*(-\\mathcal{N}^{th}[j, i]/n[i] + n[j]/n[i])*\\Gamma[j]*\\mathcal{B}^{eff}[j, i]*m[j]/H"
      ]
     },
     "execution_count": 18,
     "metadata": {},
     "output_type": "execute_result"
    }
   ],
   "source": [
    "dRi"
   ]
  },
  {
   "cell_type": "markdown",
   "metadata": {},
   "source": [
    "### Expansion of equations"
   ]
  },
  {
   "cell_type": "code",
   "execution_count": 19,
   "metadata": {},
   "outputs": [],
   "source": [
    "#Replace n -> neq(1+delta) + Delta\n",
    "#Coupled regime: Delta = 0, delta << 1 (expansion up to first order in delta)\n",
    "#Non-coupled regime: delta = 0 (expansion up to order zero in delta)\n",
    "#General scenario: expansion up to first order in delta and set delta_i*Delta_i = 0\n",
    "dRiGeneral = dRi.subs({n[i] : neq[i]*(1+d[i])+D[i],n[j] : neq[j]*(1+d[j])+D[j]})\n",
    "dRiGeneral = sp.collect(sp.expand(dRiGeneral).subs({d[i]*D[i] : 0, d[j]*D[j] : 0}),coll)"
   ]
  },
  {
   "cell_type": "code",
   "execution_count": 20,
   "metadata": {},
   "outputs": [],
   "source": [
    "#Zero order term:\n",
    "dRiGeneral0 = dRiGeneral.taylor_term(0,d[i]).taylor_term(0,d[j])\n",
    "#First order term (1st order in delta_i with Delta_i = 0 + 1st order in delta_j with Delta_j=0)\n",
    "dRiGeneral1 = dRiGeneral.taylor_term(1,d[i]).subs({D[i] : 0}).taylor_term(0,d[j])\n",
    "dRiGeneral1 += dRiGeneral.taylor_term(0,d[i]).taylor_term(1,d[j]).subs({D[j] : 0})"
   ]
  },
  {
   "cell_type": "code",
   "execution_count": 21,
   "metadata": {},
   "outputs": [
    {
     "data": {
      "text/latex": [
       "$\\displaystyle - 3 {P_{n}}_{i} + \\frac{\\left(2 \\left(- {\\Delta}_{j} - {\\bar{n}}_{j} + {\\mathcal{N}^{th}}_{j,i}\\right) {R}_{i} + \\left({\\Delta}_{j} + {\\bar{n}}_{j} - {\\mathcal{N}^{th}}_{j,i}\\right) {R}_{j}\\right) {\\Gamma}_{j} {\\mathcal{B}^{eff}}_{j,i} {m}_{j}}{2 H \\left({\\Delta}_{i} + {\\bar{n}}_{i}\\right) {R}_{j}}$"
      ],
      "text/plain": [
       "-3*P_{n}[i] + (2*(-\\Delta[j] - \\bar{n}[j] + \\mathcal{N}^{th}[j, i])*R[i] + (\\Delta[j] + \\bar{n}[j] - \\mathcal{N}^{th}[j, i])*R[j])*\\Gamma[j]*\\mathcal{B}^{eff}[j, i]*m[j]/(2*H*(\\Delta[i] + \\bar{n}[i])*R[j])"
      ]
     },
     "execution_count": 21,
     "metadata": {},
     "output_type": "execute_result"
    }
   ],
   "source": [
    "exp0 = -3*Pn[i]\n",
    "for term in coll:\n",
    "    exp0 += sp.simplify(dRiGeneral0.coeff(term,1))*term\n",
    "exp0"
   ]
  },
  {
   "cell_type": "code",
   "execution_count": 22,
   "metadata": {},
   "outputs": [
    {
     "data": {
      "text/latex": [
       "$\\displaystyle 0$"
      ],
      "text/plain": [
       "0"
      ]
     },
     "execution_count": 22,
     "metadata": {},
     "output_type": "execute_result"
    }
   ],
   "source": [
    "sp.simplify(exp0-dRiGeneral0)"
   ]
  },
  {
   "cell_type": "code",
   "execution_count": 23,
   "metadata": {},
   "outputs": [
    {
     "data": {
      "text/latex": [
       "$\\displaystyle \\frac{\\left(\\left({\\Delta}_{i} + {\\bar{n}}_{i}\\right) \\left({\\Delta}_{j} + {\\bar{n}}_{j} - {\\mathcal{N}^{th}}_{j,i}\\right) {\\delta}_{i} - {\\bar{n}}_{i} {\\bar{n}}_{j} {\\delta}_{j}\\right) \\left(2 {R}_{i} - {R}_{j}\\right) {\\Gamma}_{j} {\\mathcal{B}^{eff}}_{j,i} {m}_{j}}{2 H \\left({\\Delta}_{i} + {\\bar{n}}_{i}\\right) {R}_{j} {\\bar{n}}_{i}}$"
      ],
      "text/plain": [
       "((\\Delta[i] + \\bar{n}[i])*(\\Delta[j] + \\bar{n}[j] - \\mathcal{N}^{th}[j, i])*\\delta[i] - \\bar{n}[i]*\\bar{n}[j]*\\delta[j])*(2*R[i] - R[j])*\\Gamma[j]*\\mathcal{B}^{eff}[j, i]*m[j]/(2*H*(\\Delta[i] + \\bar{n}[i])*R[j]*\\bar{n}[i])"
      ]
     },
     "execution_count": 23,
     "metadata": {},
     "output_type": "execute_result"
    }
   ],
   "source": [
    "exp1 = 0\n",
    "for dterm in (d[i],d[j]):\n",
    "    for term in coll:\n",
    "        exp1 += sp.simplify(dRiGeneral1.coeff(dterm,1).coeff(term))*term*dterm\n",
    "sp.simplify(sp.collect(exp1,(d[i],d[j])))\n",
    "# exp1"
   ]
  },
  {
   "cell_type": "code",
   "execution_count": 24,
   "metadata": {},
   "outputs": [
    {
     "data": {
      "text/latex": [
       "$\\displaystyle 0$"
      ],
      "text/plain": [
       "0"
      ]
     },
     "execution_count": 24,
     "metadata": {},
     "output_type": "execute_result"
    }
   ],
   "source": [
    "sp.simplify(exp1-dRiGeneral1)"
   ]
  },
  {
   "cell_type": "code",
   "execution_count": null,
   "metadata": {},
   "outputs": [],
   "source": []
  }
 ],
 "metadata": {
  "kernelspec": {
   "display_name": "Python 3",
   "language": "python",
   "name": "python3"
  },
  "language_info": {
   "codemirror_mode": {
    "name": "ipython",
    "version": 3
   },
   "file_extension": ".py",
   "mimetype": "text/x-python",
   "name": "python",
   "nbconvert_exporter": "python",
   "pygments_lexer": "ipython3",
   "version": "3.7.3"
  }
 },
 "nbformat": 4,
 "nbformat_minor": 2
}
