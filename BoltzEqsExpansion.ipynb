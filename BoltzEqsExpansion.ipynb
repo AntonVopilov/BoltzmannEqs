{
 "cells": [
  {
   "cell_type": "code",
   "execution_count": 1,
   "metadata": {},
   "outputs": [],
   "source": [
    "import sympy as sp"
   ]
  },
  {
   "cell_type": "markdown",
   "metadata": {},
   "source": [
    "### Parameters and Variables"
   ]
  },
  {
   "cell_type": "code",
   "execution_count": 2,
   "metadata": {},
   "outputs": [],
   "source": [
    "#Variables\n",
    "x,T = sp.symbols('x,T', real=True, positive=True)\n",
    "#Parameters\n",
    "wi = sp.symbols('\\Gamma_{i}', real=True, positive=True)\n",
    "wj = sp.symbols('\\Gamma_{j}', real=True, positive=True)\n",
    "mi = sp.symbols('m_{i}', real=True, positive=True)\n",
    "mj = sp.symbols('m_{j}', real=True, positive=True)"
   ]
  },
  {
   "cell_type": "markdown",
   "metadata": {},
   "source": [
    "### Functions"
   ]
  },
  {
   "cell_type": "code",
   "execution_count": 69,
   "metadata": {},
   "outputs": [],
   "source": [
    "ni,nj, nieq, njeq, di, dj = sp.symbols(r'n_i n_j \\bar{n}_i \\bar{n}_j \\delta_i \\delta_j', cls=sp.Symbol)\n",
    "Nith,Njth = sp.symbols(r'\\mathcal{N}_i^{th} \\mathcal{N}_j^{th}', cls=sp.Symbol)\n",
    "Nijth, Njith = sp.symbols(r'\\mathcal{N}_{ij}^{th}  \\mathcal{N}_{ji}^{th}', cls=sp.Symbol)\n",
    "N0ijth, N0jith = sp.symbols(r'\\mathcal{N}_{ij}^{0th}  \\mathcal{N}_{ji}^{0th}', cls=sp.Symbol)\n",
    "N1ijth, N1jith = sp.symbols(r'\\mathcal{N}_{ij}^{1th}  \\mathcal{N}_{ji}^{1th}', cls=sp.Symbol)"
   ]
  },
  {
   "cell_type": "code",
   "execution_count": 70,
   "metadata": {},
   "outputs": [],
   "source": [
    "#Functions\n",
    "NS,Ri,Rj = sp.symbols(r'N_S,R_{i},R_{j}', cls=sp.Symbol)\n",
    "H = sp.symbols('H', cls=sp.Symbol)\n",
    "svStr = r'\\langle\\sigma\\text{v}\\rangle'\n",
    "svii, svij, svjj = sp.symbols('%s_{ii},%s_{ij},%s_{jj}' %(svStr,svStr,svStr), cls=sp.Symbol)\n",
    "crate = sp.symbols(r'\\tilde{\\Gamma}_{ijSM}', cls=sp.Symbol)\n",
    "Beffij,Beffji = sp.symbols(r'\\mathcal{B}^{eff}_{ij} \\mathcal{B}^{eff}_{ji}', cls=sp.Symbol)"
   ]
  },
  {
   "cell_type": "code",
   "execution_count": 71,
   "metadata": {},
   "outputs": [],
   "source": [
    "#Terms to be collected\n",
    "coll = (svii,svij,svjj,crate,wi,Beffij,Beffji)"
   ]
  },
  {
   "cell_type": "markdown",
   "metadata": {},
   "source": [
    "## Number Density Equations:"
   ]
  },
  {
   "cell_type": "code",
   "execution_count": 72,
   "metadata": {},
   "outputs": [],
   "source": [
    "dNi = -3 \n",
    "dNi += (ni/H)*(nieq**2/ni**2-1)*svii\n",
    "dNi += (1/H)*(nieq*njeq/ni-nj)*svij\n",
    "dNi += (ni/H)*(nieq**2*nj**2/(ni**2*njeq**2)-1)*svjj\n",
    "dNi += (1/H)*(nieq*nj/(ni*njeq)-1)*crate\n",
    "dNi += -(wi*mi/(H*Ri))*(1-Nith/ni)\n",
    "dNi += Beffji*(wj*mj/(H*Rj))*(nj/ni - Njith/ni)\n",
    "dNi = sp.collect(dNi,coll)"
   ]
  },
  {
   "cell_type": "code",
   "execution_count": 73,
   "metadata": {},
   "outputs": [
    {
     "data": {
      "text/latex": [
       "$\\displaystyle -3 + \\frac{\\langle\\sigma\\text{v}\\rangle_{ii} n_{i} \\left(\\frac{\\bar{n}_i^{2}}{n_{i}^{2}} - 1\\right)}{H} + \\frac{\\langle\\sigma\\text{v}\\rangle_{ij} \\left(\\frac{\\bar{n}_i \\bar{n}_j}{n_{i}} - n_{j}\\right)}{H} + \\frac{\\langle\\sigma\\text{v}\\rangle_{jj} n_{i} \\left(\\frac{\\bar{n}_i^{2} n_{j}^{2}}{\\bar{n}_j^{2} n_{i}^{2}} - 1\\right)}{H} + \\frac{\\tilde{\\Gamma}_{ijSM} \\left(\\frac{\\bar{n}_i n_{j}}{\\bar{n}_j n_{i}} - 1\\right)}{H} + \\frac{\\Gamma_{j} \\mathcal{B}^{eff}_{ji} m_{j} \\left(- \\frac{\\mathcal{N}_{ji}^{th}}{n_{i}} + \\frac{n_{j}}{n_{i}}\\right)}{H R_{j}} - \\frac{\\Gamma_{i} m_{i} \\left(- \\frac{\\mathcal{N}_i^{th}}{n_{i}} + 1\\right)}{H R_{i}}$"
      ],
      "text/plain": [
       "-3 + \\langle\\sigma\\text{v}\\rangle_{ii}*n_i*(\\bar{n}_i**2/n_i**2 - 1)/H + \\langle\\sigma\\text{v}\\rangle_{ij}*(\\bar{n}_i*\\bar{n}_j/n_i - n_j)/H + \\langle\\sigma\\text{v}\\rangle_{jj}*n_i*(\\bar{n}_i**2*n_j**2/(\\bar{n}_j**2*n_i**2) - 1)/H + \\tilde{\\Gamma}_{ijSM}*(\\bar{n}_i*n_j/(\\bar{n}_j*n_i) - 1)/H + \\Gamma_{j}*\\mathcal{B}^{eff}_{ji}*m_{j}*(-\\mathcal{N}_{ji}^{th}/n_i + n_j/n_i)/(H*R_{j}) - \\Gamma_{i}*m_{i}*(-\\mathcal{N}_i^{th}/n_i + 1)/(H*R_{i})"
      ]
     },
     "execution_count": 73,
     "metadata": {},
     "output_type": "execute_result"
    }
   ],
   "source": [
    "dNi"
   ]
  },
  {
   "cell_type": "markdown",
   "metadata": {},
   "source": [
    "### Expansion near equilibrium density for ith-component"
   ]
  },
  {
   "cell_type": "code",
   "execution_count": 74,
   "metadata": {},
   "outputs": [],
   "source": [
    "dNi0 = sp.collect((dNi.subs({ni : nieq*(1+di),Njith : N0jith + di*N1jith})).taylor_term(0,di),coll)\n",
    "dNi1 = sp.collect((dNi.subs({ni : nieq*(1+di),Njith : N0jith + di*N1jith})).taylor_term(1,di),coll)"
   ]
  },
  {
   "cell_type": "code",
   "execution_count": 75,
   "metadata": {},
   "outputs": [
    {
     "data": {
      "text/latex": [
       "$\\displaystyle -3 + \\frac{\\bar{n}_i \\langle\\sigma\\text{v}\\rangle_{jj} \\left(-1 + \\frac{n_{j}^{2}}{\\bar{n}_j^{2}}\\right)}{H} + \\frac{\\langle\\sigma\\text{v}\\rangle_{ij} \\left(\\bar{n}_j - n_{j}\\right)}{H} + \\frac{\\tilde{\\Gamma}_{ijSM} \\left(-1 + \\frac{n_{j}}{\\bar{n}_j}\\right)}{H} + \\frac{\\Gamma_{j} \\mathcal{B}^{eff}_{ji} m_{j} \\left(- \\frac{\\mathcal{N}_{ji}^{0th}}{\\bar{n}_i} + \\frac{n_{j}}{\\bar{n}_i}\\right)}{H R_{j}} - \\frac{\\Gamma_{i} m_{i} \\left(1 - \\frac{\\mathcal{N}_i^{th}}{\\bar{n}_i}\\right)}{H R_{i}}$"
      ],
      "text/plain": [
       "-3 + \\bar{n}_i*\\langle\\sigma\\text{v}\\rangle_{jj}*(-1 + n_j**2/\\bar{n}_j**2)/H + \\langle\\sigma\\text{v}\\rangle_{ij}*(\\bar{n}_j - n_j)/H + \\tilde{\\Gamma}_{ijSM}*(-1 + n_j/\\bar{n}_j)/H + \\Gamma_{j}*\\mathcal{B}^{eff}_{ji}*m_{j}*(-\\mathcal{N}_{ji}^{0th}/\\bar{n}_i + n_j/\\bar{n}_i)/(H*R_{j}) - \\Gamma_{i}*m_{i}*(1 - \\mathcal{N}_i^{th}/\\bar{n}_i)/(H*R_{i})"
      ]
     },
     "execution_count": 75,
     "metadata": {},
     "output_type": "execute_result"
    }
   ],
   "source": [
    "dNi0"
   ]
  },
  {
   "cell_type": "code",
   "execution_count": 76,
   "metadata": {},
   "outputs": [
    {
     "data": {
      "text/latex": [
       "$\\displaystyle \\delta_i \\left(\\langle\\sigma\\text{v}\\rangle_{jj} \\left(\\frac{\\bar{n}_i \\left(-1 + \\frac{n_{j}^{2}}{\\bar{n}_j^{2}}\\right)}{H} - \\frac{2 \\bar{n}_i n_{j}^{2}}{H \\bar{n}_j^{2}}\\right) - \\frac{2 \\bar{n}_i \\langle\\sigma\\text{v}\\rangle_{ii}}{H} - \\frac{\\bar{n}_j \\langle\\sigma\\text{v}\\rangle_{ij}}{H} - \\frac{\\tilde{\\Gamma}_{ijSM} n_{j}}{H \\bar{n}_j} + \\frac{\\Gamma_{j} \\mathcal{B}^{eff}_{ji} m_{j} \\left(\\frac{\\mathcal{N}_{ji}^{0th}}{\\bar{n}_i} - \\frac{\\mathcal{N}_{ji}^{1th}}{\\bar{n}_i} - \\frac{n_{j}}{\\bar{n}_i}\\right)}{H R_{j}} - \\frac{\\Gamma_{i} \\mathcal{N}_i^{th} m_{i}}{H R_{i} \\bar{n}_i}\\right)$"
      ],
      "text/plain": [
       "\\delta_i*(\\langle\\sigma\\text{v}\\rangle_{jj}*(\\bar{n}_i*(-1 + n_j**2/\\bar{n}_j**2)/H - 2*\\bar{n}_i*n_j**2/(H*\\bar{n}_j**2)) - 2*\\bar{n}_i*\\langle\\sigma\\text{v}\\rangle_{ii}/H - \\bar{n}_j*\\langle\\sigma\\text{v}\\rangle_{ij}/H - \\tilde{\\Gamma}_{ijSM}*n_j/(H*\\bar{n}_j) + \\Gamma_{j}*\\mathcal{B}^{eff}_{ji}*m_{j}*(\\mathcal{N}_{ji}^{0th}/\\bar{n}_i - \\mathcal{N}_{ji}^{1th}/\\bar{n}_i - n_j/\\bar{n}_i)/(H*R_{j}) - \\Gamma_{i}*\\mathcal{N}_i^{th}*m_{i}/(H*R_{i}*\\bar{n}_i))"
      ]
     },
     "execution_count": 76,
     "metadata": {},
     "output_type": "execute_result"
    }
   ],
   "source": [
    "dNi1"
   ]
  },
  {
   "cell_type": "markdown",
   "metadata": {},
   "source": [
    "### Expansion near equilibrium density for ith- and jth-components"
   ]
  },
  {
   "cell_type": "code",
   "execution_count": 78,
   "metadata": {},
   "outputs": [],
   "source": [
    "dNi00 = sp.collect((dNi0.subs({nj : njeq*(1+dj), Nijth : N0ijth + dj*N1ijth})).taylor_term(0,dj),coll)\n",
    "dNi01 = sp.collect((dNi0.subs({nj : njeq*(1+dj), Nijth : N0ijth + dj*N1ijth})).taylor_term(1,dj),coll)\n",
    "dNi10 = sp.collect((dNi1.subs({nj : njeq*(1+dj), Nijth : N0ijth + dj*N1ijth})).taylor_term(0,dj),coll)"
   ]
  },
  {
   "cell_type": "code",
   "execution_count": 79,
   "metadata": {},
   "outputs": [
    {
     "data": {
      "text/latex": [
       "$\\displaystyle -3 + \\frac{\\Gamma_{j} \\mathcal{B}^{eff}_{ji} m_{j} \\left(\\frac{\\bar{n}_j}{\\bar{n}_i} - \\frac{\\mathcal{N}_{ji}^{0th}}{\\bar{n}_i}\\right)}{H R_{j}} - \\frac{\\Gamma_{i} m_{i} \\left(1 - \\frac{\\mathcal{N}_i^{th}}{\\bar{n}_i}\\right)}{H R_{i}}$"
      ],
      "text/plain": [
       "-3 + \\Gamma_{j}*\\mathcal{B}^{eff}_{ji}*m_{j}*(\\bar{n}_j/\\bar{n}_i - \\mathcal{N}_{ji}^{0th}/\\bar{n}_i)/(H*R_{j}) - \\Gamma_{i}*m_{i}*(1 - \\mathcal{N}_i^{th}/\\bar{n}_i)/(H*R_{i})"
      ]
     },
     "execution_count": 79,
     "metadata": {},
     "output_type": "execute_result"
    }
   ],
   "source": [
    "dNi00"
   ]
  },
  {
   "cell_type": "code",
   "execution_count": 80,
   "metadata": {},
   "outputs": [
    {
     "data": {
      "text/latex": [
       "$\\displaystyle \\delta_j \\left(\\frac{2 \\bar{n}_i \\langle\\sigma\\text{v}\\rangle_{jj}}{H} - \\frac{\\bar{n}_j \\langle\\sigma\\text{v}\\rangle_{ij}}{H} + \\frac{\\tilde{\\Gamma}_{ijSM}}{H} + \\frac{\\Gamma_{j} \\bar{n}_j \\mathcal{B}^{eff}_{ji} m_{j}}{H R_{j} \\bar{n}_i}\\right)$"
      ],
      "text/plain": [
       "\\delta_j*(2*\\bar{n}_i*\\langle\\sigma\\text{v}\\rangle_{jj}/H - \\bar{n}_j*\\langle\\sigma\\text{v}\\rangle_{ij}/H + \\tilde{\\Gamma}_{ijSM}/H + \\Gamma_{j}*\\bar{n}_j*\\mathcal{B}^{eff}_{ji}*m_{j}/(H*R_{j}*\\bar{n}_i))"
      ]
     },
     "execution_count": 80,
     "metadata": {},
     "output_type": "execute_result"
    }
   ],
   "source": [
    "dNi01"
   ]
  },
  {
   "cell_type": "code",
   "execution_count": 81,
   "metadata": {},
   "outputs": [
    {
     "data": {
      "text/latex": [
       "$\\displaystyle \\delta_i \\left(- \\frac{2 \\bar{n}_i \\langle\\sigma\\text{v}\\rangle_{ii}}{H} - \\frac{2 \\bar{n}_i \\langle\\sigma\\text{v}\\rangle_{jj}}{H} - \\frac{\\bar{n}_j \\langle\\sigma\\text{v}\\rangle_{ij}}{H} - \\frac{\\tilde{\\Gamma}_{ijSM}}{H} + \\frac{\\Gamma_{j} \\mathcal{B}^{eff}_{ji} m_{j} \\left(- \\frac{\\bar{n}_j}{\\bar{n}_i} + \\frac{\\mathcal{N}_{ji}^{0th}}{\\bar{n}_i} - \\frac{\\mathcal{N}_{ji}^{1th}}{\\bar{n}_i}\\right)}{H R_{j}} - \\frac{\\Gamma_{i} \\mathcal{N}_i^{th} m_{i}}{H R_{i} \\bar{n}_i}\\right)$"
      ],
      "text/plain": [
       "\\delta_i*(-2*\\bar{n}_i*\\langle\\sigma\\text{v}\\rangle_{ii}/H - 2*\\bar{n}_i*\\langle\\sigma\\text{v}\\rangle_{jj}/H - \\bar{n}_j*\\langle\\sigma\\text{v}\\rangle_{ij}/H - \\tilde{\\Gamma}_{ijSM}/H + \\Gamma_{j}*\\mathcal{B}^{eff}_{ji}*m_{j}*(-\\bar{n}_j/\\bar{n}_i + \\mathcal{N}_{ji}^{0th}/\\bar{n}_i - \\mathcal{N}_{ji}^{1th}/\\bar{n}_i)/(H*R_{j}) - \\Gamma_{i}*\\mathcal{N}_i^{th}*m_{i}/(H*R_{i}*\\bar{n}_i))"
      ]
     },
     "execution_count": 81,
     "metadata": {},
     "output_type": "execute_result"
    }
   ],
   "source": [
    "dNi10"
   ]
  },
  {
   "cell_type": "markdown",
   "metadata": {},
   "source": [
    "#### Expansion of effective number densities:"
   ]
  },
  {
   "cell_type": "code",
   "execution_count": 82,
   "metadata": {},
   "outputs": [],
   "source": [
    "i,j,l,k = sp.symbols('i j l k', integer=True)\n",
    "nDec, nF = sp.symbols('n_{dec}, n_{F}', integer=True)\n",
    "gi,gj = sp.symbols('g_i,g_j')\n",
    "BRlij = sp.symbols(r'BR^{l}(i\\to\\mbox{g}_j\\text{j}+...)')\n",
    "BRlji = sp.symbols(r'BR^{l}(j\\to\\mbox{g}_i\\text{i}+...)')\n",
    "nk,nkeq, dk = sp.symbols(r'n_k \\bar{n}_k delta_k', cls=sp.Symbol)"
   ]
  },
  {
   "cell_type": "code",
   "execution_count": 90,
   "metadata": {},
   "outputs": [],
   "source": [
    "NiExpr = nieq*sp.Sum(BRlij*sp.Product(nk/nkeq,(k,2,nF)),(l,1,nDec))\n",
    "BeffijExpr = sp.Sum(gj*BRlij,(l,1,nDec))\n",
    "BeffjiExpr = sp.Sum(gi*BRlji,(l,1,nDec))\n",
    "NijExpr = (nieq/Beffij)*sp.Sum(gj*BRlij*(nj/njeq)**gj*sp.Product(nk/nkeq,(k,2,nF)),(l,1,nDec))\n",
    "NjiExpr = (njeq/Beffji)*sp.Sum(gi*BRlji*(ni/nieq)**gi*sp.Product(nk/nkeq,(k,2,nF)),(l,1,nDec))"
   ]
  },
  {
   "cell_type": "code",
   "execution_count": 91,
   "metadata": {},
   "outputs": [
    {
     "data": {
      "text/latex": [
       "$\\displaystyle \\bar{n}_i \\sum_{l=1}^{n_{dec}} BR^{l}(i\\to\\mbox{g}_j\\text{j}+...) \\prod_{k=2}^{n_{F}} \\frac{n_{k}}{\\bar{n}_k}$"
      ],
      "text/plain": [
       "\\bar{n}_i*Sum(BR^{l}(i\\to\\mbox{g}_j\\text{j}+...)*Product(n_k/\\bar{n}_k, (k, 2, n_{F})), (l, 1, n_{dec}))"
      ]
     },
     "execution_count": 91,
     "metadata": {},
     "output_type": "execute_result"
    }
   ],
   "source": [
    "NiExpr"
   ]
  },
  {
   "cell_type": "code",
   "execution_count": 107,
   "metadata": {},
   "outputs": [
    {
     "data": {
      "text/latex": [
       "$\\displaystyle \\frac{\\bar{n}_i \\sum_{l=1}^{n_{dec}} BR^{l}(i\\to\\mbox{g}_j\\text{j}+...) g_{j} \\left(\\frac{n_{j}}{\\bar{n}_j}\\right)^{g_{j}} \\prod_{k=2}^{n_{F}} \\frac{n_{k}}{\\bar{n}_k}}{\\mathcal{B}^{eff}_{ij}}$"
      ],
      "text/plain": [
       "\\bar{n}_i*Sum(BR^{l}(i\\to\\mbox{g}_j\\text{j}+...)*g_j*(n_j/\\bar{n}_j)**g_j*Product(n_k/\\bar{n}_k, (k, 2, n_{F})), (l, 1, n_{dec}))/\\mathcal{B}^{eff}_{ij}"
      ]
     },
     "execution_count": 107,
     "metadata": {},
     "output_type": "execute_result"
    }
   ],
   "source": [
    "NijExpr"
   ]
  },
  {
   "cell_type": "code",
   "execution_count": 108,
   "metadata": {},
   "outputs": [],
   "source": [
    "N0ijExpr = (NijExpr.subs({ni : nieq*(1+di),nj : njeq*(1+dj)})).taylor_term(0,di).taylor_term(0,dj)\n",
    "N1ijExpr = (NijExpr.subs({ni : nieq*(1+di),nj : njeq*(1+dj)})).taylor_term(1,di).taylor_term(0,dj)\n",
    "N1ijExpr += (NijExpr.subs({ni : nieq*(1+di),nj : njeq*(1+dj)})).taylor_term(0,di).taylor_term(1,dj)"
   ]
  },
  {
   "cell_type": "code",
   "execution_count": 109,
   "metadata": {},
   "outputs": [
    {
     "data": {
      "text/latex": [
       "$\\displaystyle \\frac{\\bar{n}_i \\sum_{l=1}^{n_{dec}} BR^{l}(i\\to\\mbox{g}_j\\text{j}+...) g_{j} \\prod_{k=2}^{n_{F}} \\frac{n_{k}}{\\bar{n}_k}}{\\mathcal{B}^{eff}_{ij}}$"
      ],
      "text/plain": [
       "\\bar{n}_i*Sum(BR^{l}(i\\to\\mbox{g}_j\\text{j}+...)*g_j*Product(n_k/\\bar{n}_k, (k, 2, n_{F})), (l, 1, n_{dec}))/\\mathcal{B}^{eff}_{ij}"
      ]
     },
     "execution_count": 109,
     "metadata": {},
     "output_type": "execute_result"
    }
   ],
   "source": [
    "N0ijExpr"
   ]
  },
  {
   "cell_type": "code",
   "execution_count": 110,
   "metadata": {},
   "outputs": [
    {
     "data": {
      "text/latex": [
       "$\\displaystyle \\frac{\\bar{n}_i \\delta_j \\sum_{l=1}^{n_{dec}} BR^{l}(i\\to\\mbox{g}_j\\text{j}+...) g_{j}^{2} \\prod_{k=2}^{n_{F}} \\frac{n_{k}}{\\bar{n}_k}}{\\mathcal{B}^{eff}_{ij}}$"
      ],
      "text/plain": [
       "\\bar{n}_i*\\delta_j*Sum(BR^{l}(i\\to\\mbox{g}_j\\text{j}+...)*g_j**2*Product(n_k/\\bar{n}_k, (k, 2, n_{F})), (l, 1, n_{dec}))/\\mathcal{B}^{eff}_{ij}"
      ]
     },
     "execution_count": 110,
     "metadata": {},
     "output_type": "execute_result"
    }
   ],
   "source": [
    "N1ijExpr"
   ]
  },
  {
   "cell_type": "code",
   "execution_count": 111,
   "metadata": {},
   "outputs": [],
   "source": [
    "N0jiExpr = (NjiExpr.subs({ni : nieq*(1+di),nj : njeq*(1+dj)})).taylor_term(0,di).taylor_term(0,dj)\n",
    "N1jiExpr = (NjiExpr.subs({ni : nieq*(1+di),nj : njeq*(1+dj)})).taylor_term(1,di).taylor_term(0,dj)\n",
    "N1jiExpr += (NjiExpr.subs({ni : nieq*(1+di),nj : njeq*(1+dj)})).taylor_term(0,di).taylor_term(1,dj)"
   ]
  },
  {
   "cell_type": "code",
   "execution_count": 112,
   "metadata": {},
   "outputs": [
    {
     "data": {
      "text/latex": [
       "$\\displaystyle \\frac{\\bar{n}_j \\sum_{l=1}^{n_{dec}} BR^{l}(j\\to\\mbox{g}_i\\text{i}+...) g_{i} \\prod_{k=2}^{n_{F}} \\frac{n_{k}}{\\bar{n}_k}}{\\mathcal{B}^{eff}_{ji}}$"
      ],
      "text/plain": [
       "\\bar{n}_j*Sum(BR^{l}(j\\to\\mbox{g}_i\\text{i}+...)*g_i*Product(n_k/\\bar{n}_k, (k, 2, n_{F})), (l, 1, n_{dec}))/\\mathcal{B}^{eff}_{ji}"
      ]
     },
     "execution_count": 112,
     "metadata": {},
     "output_type": "execute_result"
    }
   ],
   "source": [
    "N0jiExpr"
   ]
  },
  {
   "cell_type": "code",
   "execution_count": 113,
   "metadata": {},
   "outputs": [
    {
     "data": {
      "text/latex": [
       "$\\displaystyle \\frac{\\bar{n}_j \\delta_i \\sum_{l=1}^{n_{dec}} BR^{l}(j\\to\\mbox{g}_i\\text{i}+...) g_{i}^{2} \\prod_{k=2}^{n_{F}} \\frac{n_{k}}{\\bar{n}_k}}{\\mathcal{B}^{eff}_{ji}}$"
      ],
      "text/plain": [
       "\\bar{n}_j*\\delta_i*Sum(BR^{l}(j\\to\\mbox{g}_i\\text{i}+...)*g_i**2*Product(n_k/\\bar{n}_k, (k, 2, n_{F})), (l, 1, n_{dec}))/\\mathcal{B}^{eff}_{ji}"
      ]
     },
     "execution_count": 113,
     "metadata": {},
     "output_type": "execute_result"
    }
   ],
   "source": [
    "N1jiExpr"
   ]
  },
  {
   "cell_type": "code",
   "execution_count": null,
   "metadata": {},
   "outputs": [],
   "source": []
  }
 ],
 "metadata": {
  "kernelspec": {
   "display_name": "Python 3",
   "language": "python",
   "name": "python3"
  },
  "language_info": {
   "codemirror_mode": {
    "name": "ipython",
    "version": 3
   },
   "file_extension": ".py",
   "mimetype": "text/x-python",
   "name": "python",
   "nbconvert_exporter": "python",
   "pygments_lexer": "ipython3",
   "version": "3.7.3"
  }
 },
 "nbformat": 4,
 "nbformat_minor": 2
}
