{
 "cells": [
  {
   "cell_type": "code",
   "execution_count": 1,
   "metadata": {},
   "outputs": [
    {
     "name": "stderr",
     "output_type": "stream",
     "text": [
      "INFO:pyCode.AuxFuncs:Loading aux functions. Ignoring BSM corrections to g* and g*_S\n"
     ]
    }
   ],
   "source": [
    "from pyCode.AuxDecays import DecayList,Decay\n",
    "from pyCode.component import Component\n",
    "from pyCode.EqFunctions import T as Tfunc\n",
    "from pyCode.EqFunctions import gSTAR\n",
    "from scipy.misc import derivative\n",
    "from scipy.interpolate import interp1d"
   ]
  },
  {
   "cell_type": "code",
   "execution_count": 2,
   "metadata": {},
   "outputs": [],
   "source": [
    "import numpy as np\n",
    "import sympy as sp"
   ]
  },
  {
   "cell_type": "code",
   "execution_count": 3,
   "metadata": {},
   "outputs": [],
   "source": [
    "#Annihilation rate for mediator\n",
    "data = np.genfromtxt('./width_and_medxs.dat',skip_header=5)\n",
    "dataR = np.genfromtxt('./sigmav_conversion_bchi-sbotg_500_510_1.dat',skip_header=6,usecols=(0,4))\n",
    "conv = 0.8579e17\n",
    "\n",
    "sLog = lambda x: interp1d(data[:,0],np.log(data[:,1]*conv),\n",
    "                    fill_value='extrapolate',bounds_error=False)(x)\n",
    "cRateLog = lambda x: interp1d(dataR[:,0],np.log(dataR[:,1]*conv*(lamb)**2),\n",
    "                    fill_value='extrapolate',bounds_error=False)(x)\n",
    "\n",
    "#Conversion rates for DM and mediator: \n",
    "dofDM = -2 #Number of DM degrees of freedom (Majorana fermion)\n",
    "dofMed = 6 #Number of Mediator degrees of freedom (complex colored scalar)\n",
    "\n",
    "def sigmaVJan(T):\n",
    "    x = 500./T\n",
    "    if x > data[:,0].max():\n",
    "        return 0.\n",
    "    sF = sLog(x)\n",
    "    return np.exp(sF)\n"
   ]
  },
  {
   "cell_type": "code",
   "execution_count": 4,
   "metadata": {},
   "outputs": [],
   "source": [
    "lamb = 0.17\n",
    "decays = DecayList()\n",
    "decayToDM = Decay(instate='Mediator',fstates=['DM','radiation'],br=1.)\n",
    "decays.addDecay(decayToDM)\n",
    "decays.Xfraction = 0.1\n",
    "decays.width = 2.49e-15*(lamb/4.3e-7)**2\n",
    "dofDM = -2\n",
    "dofMed = 6\n",
    "dm = Component(label='DM',Type='thermal',dof=dofDM, mass=500.,\n",
    "               sigmav=lambda T: sigmaVJan(T))\n",
    "mediator = Component(label='Mediator',Type='thermal',dof=dofMed, \n",
    "                     mass=510.,decays=decays)\n",
    "components = [dm,mediator]"
   ]
  },
  {
   "cell_type": "code",
   "execution_count": 5,
   "metadata": {},
   "outputs": [],
   "source": [
    "#Store the number of components:\n",
    "nComp = len(components)\n",
    "\n",
    "#Define variables:        \n",
    "N = np.array(sp.symbols('N:%d'%nComp))\n",
    "R = np.array(sp.symbols('R:%d'%nComp))\n",
    "NS = sp.symbols('N_S')\n",
    "x = sp.symbols('x')\n",
    "T = Tfunc(x,NS)\n",
    "\n",
    "n = np.array([sp.exp(Ni) for Ni in N])\n",
    "\n",
    "#Planck constant:\n",
    "MP = sp.symbols('M_P')\n",
    "\n",
    "#Current energy densities:\n",
    "rho = n*R\n",
    "\n",
    "#Compute equilibrium densities:\n",
    "neq = np.array([comp.nEQ(T) for comp in components])\n",
    "\n",
    "#Compute ratio of equilibrium densities\n",
    "#(helps with numerical instabilities)\n",
    "#rNeq[i,j] = neq[i]/neq[j]\n",
    "rNeq = np.array([[compi.rNeq(T,compj) if compi.active and compj.active else 0. for compj in components] \n",
    "                 for compi in components])\n",
    "\n",
    "#Dictionary with label:index mapping:\n",
    "labelsDict = dict([[comp.label,i] for i,comp in enumerate(components)])\n",
    "isActive = np.array([comp.active for comp in components])\n",
    "        \n",
    "#Compute Hubble factor:\n",
    "rhoTot = np.sum(rho,where=isActive,initial=0)\n",
    "rhoRad = (sp.pi**2/30)*gSTAR(T)*T**4  # thermal bath's energy density    \n",
    "rho = rhoRad+rhoTot\n",
    "H = sp.sqrt(8*sp.pi*rho/3)/MP\n",
    " \n",
    "#Effective equilibrium densities and BRs:\n",
    "NXth = np.array([comp.getNXTh(T,n,rNeq,labelsDict) for comp in components])\n",
    "widths = np.array([comp.width(T) for comp in components])\n",
    "masses = np.array([comp.mass(T) for comp in components])\n",
    "BRX = np.array([comp.getBRX(T) for comp in components])\n",
    "sigmaV = np.array([comp.getSIGV(T) for comp in components])\n",
    "\n",
    "dNS = np.sum(isActive*BRX*widths*masses*(n-NXth))*sp.exp(3.*x - NS)/(H*T)"
   ]
  },
  {
   "cell_type": "code",
   "execution_count": 6,
   "metadata": {},
   "outputs": [],
   "source": [
    "RHS = -3*n\n",
    "#Decay term:\n",
    "RHS -= widths*masses*n/(H*R)\n",
    "#Inverse decay term:\n",
    "RHS += widths*masses*NXth/(H*R) #NXth should be finite if i -> j +..\n",
    "#Annihilation term:            \n",
    "RHS += sigmaV*(neq - n)*(neq + n)/H\n",
    "dN = sp.sympify(np.zeros(nComp)).as_mutable()\n",
    "for i,rhs in enumerate(RHS):\n",
    "    if isActive[i]:\n",
    "        dN[i] = RHS[i]/n[i]"
   ]
  },
  {
   "cell_type": "code",
   "execution_count": 7,
   "metadata": {},
   "outputs": [],
   "source": [
    "RHS = sp.sympify(np.zeros(nComp)).as_mutable()\n",
    "#Derivatives for the rho/n variables (only for thermal components):\n",
    "for i,comp in enumerate(components):\n",
    "    if not isActive[i]:\n",
    "        continue\n",
    "    RHS[i] = -3.*n[i]*comp.Pn(T,R[i])  #Cooling term\n",
    "\n",
    "dR = sp.sympify(np.zeros(nComp)).as_mutable()\n",
    "for i,rhs in enumerate(RHS):\n",
    "    if isActive[i]:\n",
    "        dR[i] = rhs/n[i]"
   ]
  },
  {
   "cell_type": "code",
   "execution_count": 8,
   "metadata": {},
   "outputs": [
    {
     "name": "stdout",
     "output_type": "stream",
     "text": [
      "[N0 N1 R0 R1 N_S]\n"
     ]
    }
   ],
   "source": [
    "dy = np.hstack((dN,dR,[dNS]))\n",
    "yv = np.hstack((N,R,[NS]))\n",
    "print(yv)"
   ]
  },
  {
   "cell_type": "code",
   "execution_count": 9,
   "metadata": {},
   "outputs": [
    {
     "data": {
      "text/latex": [
       "$\\displaystyle \\left(\\frac{\\sqrt{6} M_{P} \\left(\\operatorname{nEQ}{\\left(T{\\left(x,N_{S} \\right)},500.0,-2 \\right)} - e^{N_{0}}\\right) \\left(\\operatorname{nEQ}{\\left(T{\\left(x,N_{S} \\right)},500.0,-2 \\right)} + e^{N_{0}}\\right) \\operatorname{sVDM}{\\left(T{\\left(x,N_{S} \\right)} \\right)}}{4 \\sqrt{\\pi} \\sqrt{R_{0} e^{N_{0}} + R_{1} e^{N_{1}} + \\frac{\\pi^{2} T^{4}{\\left(x,N_{S} \\right)} \\operatorname{gSTAR}{\\left(T{\\left(x,N_{S} \\right)} \\right)}}{30}}} - 3 e^{N_{0}}\\right) e^{- N_{0}}$"
      ],
      "text/plain": [
       "(sqrt(6)*M_P*(nEQ(T(x, N_S), 500.0, -2) - exp(N0))*(nEQ(T(x, N_S), 500.0, -2) + exp(N0))*sVDM(T(x, N_S))/(4*sqrt(pi)*sqrt(R0*exp(N0) + R1*exp(N1) + pi**2*T(x, N_S)**4*gSTAR(T(x, N_S))/30)) - 3*exp(N0))*exp(-N0)"
      ]
     },
     "execution_count": 9,
     "metadata": {},
     "output_type": "execute_result"
    }
   ],
   "source": [
    "dN[0]"
   ]
  },
  {
   "cell_type": "code",
   "execution_count": 10,
   "metadata": {},
   "outputs": [],
   "source": [
    "fff = sp.lambdify([x,yv],dy, modules=[{'M_P' : 1.22e19},'numpy','sympy'])"
   ]
  },
  {
   "cell_type": "code",
   "execution_count": 11,
   "metadata": {},
   "outputs": [
    {
     "data": {
      "text/plain": [
       "[-3.0000000000000004, -502510737648.2379, -0.0, -0.0, 3.989726227355053e+16]"
      ]
     },
     "execution_count": 11,
     "metadata": {},
     "output_type": "execute_result"
    }
   ],
   "source": [
    "fff(1.,[10.,5.,500.,500.,2.])"
   ]
  },
  {
   "cell_type": "code",
   "execution_count": 12,
   "metadata": {},
   "outputs": [],
   "source": [
    "jac = sp.Matrix(dy).jacobian(yv).tolist()\n",
    "jacf = sp.lambdify([x,yv],jac,modules=[{'M_P' : 1.22e19},'numpy','sympy'])"
   ]
  },
  {
   "cell_type": "code",
   "execution_count": 13,
   "metadata": {},
   "outputs": [
    {
     "data": {
      "text/plain": [
       "(5, 5)"
      ]
     },
     "execution_count": 13,
     "metadata": {},
     "output_type": "execute_result"
    }
   ],
   "source": [
    "np.array(jac).shape"
   ]
  },
  {
   "cell_type": "code",
   "execution_count": 14,
   "metadata": {},
   "outputs": [
    {
     "data": {
      "text/plain": [
       "[[0.0, 0.0, 0.0, 0.0, 0.0],\n",
       " [249573752516.75955,\n",
       "  1681614716.8188477,\n",
       "  499147505.03351545,\n",
       "  1008384704.7241174,\n",
       "  2118.728640689964],\n",
       " [0, 0, -0.0, 0, 0],\n",
       " [0, 0, 0, -0.0, 0],\n",
       " [-1.9815117797114616e+16,\n",
       "  3.976374906005306e+16,\n",
       "  -39630235594228.94,\n",
       "  -267026426995.18494,\n",
       "  -5.319634986628561e+16]]"
      ]
     },
     "execution_count": 14,
     "metadata": {},
     "output_type": "execute_result"
    }
   ],
   "source": [
    "jacf(1.,[10.,5.,500.,500.,2.])"
   ]
  },
  {
   "cell_type": "code",
   "execution_count": null,
   "metadata": {},
   "outputs": [],
   "source": [
    "jf(1.,[10.,5.,500.,500.,2.])"
   ]
  },
  {
   "cell_type": "code",
   "execution_count": null,
   "metadata": {},
   "outputs": [],
   "source": [
    "dy[1]"
   ]
  },
  {
   "cell_type": "code",
   "execution_count": null,
   "metadata": {},
   "outputs": [],
   "source": []
  }
 ],
 "metadata": {
  "kernelspec": {
   "display_name": "Python 3",
   "language": "python",
   "name": "python3"
  },
  "language_info": {
   "codemirror_mode": {
    "name": "ipython",
    "version": 3
   },
   "file_extension": ".py",
   "mimetype": "text/x-python",
   "name": "python",
   "nbconvert_exporter": "python",
   "pygments_lexer": "ipython3",
   "version": "3.7.3"
  }
 },
 "nbformat": 4,
 "nbformat_minor": 2
}
