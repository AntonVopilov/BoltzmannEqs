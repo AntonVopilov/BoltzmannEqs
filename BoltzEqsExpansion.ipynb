{
 "cells": [
  {
   "cell_type": "code",
   "execution_count": 1,
   "metadata": {},
   "outputs": [],
   "source": [
    "import sympy as sp"
   ]
  },
  {
   "cell_type": "markdown",
   "metadata": {},
   "source": [
    "### Parameters and Variables"
   ]
  },
  {
   "cell_type": "code",
   "execution_count": 2,
   "metadata": {},
   "outputs": [],
   "source": [
    "#Variables\n",
    "x,T = sp.symbols('x,T', real=True, positive=True)\n",
    "#Parameters\n",
    "w = sp.IndexedBase('\\Gamma', real=True, positive=True)\n",
    "m = sp.IndexedBase('m', real=True, positive=True)\n",
    "i,j,l,k = sp.symbols('i j l k', integer=True)\n",
    "nDec, nF = sp.symbols('n_{dec}, n_{F}', integer=True)\n",
    "nComp = sp.symbols('n_{comp}', integer=True)\n",
    "g = sp.IndexedBase('g')\n",
    "BR = sp.IndexedBase(r'BR')\n",
    "Beff = sp.IndexedBase(r'\\mathcal{B}^{eff}')"
   ]
  },
  {
   "cell_type": "markdown",
   "metadata": {},
   "source": [
    "### Functions"
   ]
  },
  {
   "cell_type": "code",
   "execution_count": 3,
   "metadata": {},
   "outputs": [],
   "source": [
    "n = sp.IndexedBase(r'n')\n",
    "neq = sp.IndexedBase(r'\\bar{n}')\n",
    "d = sp.IndexedBase(r'\\delta')\n",
    "Nth = sp.IndexedBase(r'\\mathcal{N}^{th}')\n",
    "N0th = sp.IndexedBase(r'\\mathcal{N}^{0th}')\n",
    "N1th = sp.IndexedBase(r'\\mathcal{N}^{1th}')"
   ]
  },
  {
   "cell_type": "code",
   "execution_count": 4,
   "metadata": {},
   "outputs": [],
   "source": [
    "#Functions\n",
    "NS = sp.symbols(r'N_S', cls=sp.Symbol)\n",
    "R = sp.IndexedBase(r'R')\n",
    "H = sp.symbols('H', cls=sp.Symbol)\n",
    "svStr = r'\\langle\\sigma\\text{v}\\rangle'\n",
    "sv = sp.IndexedBase(r'\\langle\\sigma\\text{v}\\rangle')\n",
    "crate = sp.IndexedBase(r'\\tilde{\\Gamma}_{SM}')\n",
    "Beff = sp.IndexedBase(r'\\mathcal{B}^{eff}')"
   ]
  },
  {
   "cell_type": "code",
   "execution_count": 5,
   "metadata": {},
   "outputs": [],
   "source": [
    "#Terms to be collected\n",
    "coll = (sv,crate,w,Beff,d[i],d[j])"
   ]
  },
  {
   "cell_type": "markdown",
   "metadata": {},
   "source": [
    "## Number Density Equations:"
   ]
  },
  {
   "cell_type": "code",
   "execution_count": 6,
   "metadata": {},
   "outputs": [],
   "source": [
    "dNi = -3 \n",
    "dNi += (n[i]/H)*(neq[i]**2/n[i]**2-1)*sv[i,i]\n",
    "dNi += (1/H)*(neq[i]*neq[j]/n[i]-n[j])*sv[i,j]\n",
    "dNi += (n[i]/H)*(neq[i]**2*n[j]**2/(n[i]**2*neq[j]**2)-1)*sv[j,j]\n",
    "dNi += (1/H)*(neq[i]*n[j]/(n[i]*neq[j])-1)*crate[i,j]\n",
    "dNi += -(w[i]*m[i]/(H*R[i]))*(1-Nth[i]/n[i])\n",
    "dNi += Beff[j,i]*(w[j]*m[j]/(H*R[j]))*(n[j]/n[i] - Nth[j,i]/n[i])\n",
    "dNi = sp.collect(dNi,coll)"
   ]
  },
  {
   "cell_type": "code",
   "execution_count": 21,
   "metadata": {},
   "outputs": [
    {
     "data": {
      "text/latex": [
       "$\\displaystyle -3 + \\frac{\\left(\\frac{{\\bar{n}}_{i}^{2}}{{n}_{i}^{2}} - 1\\right) {\\langle\\sigma\\text{v}\\rangle}_{i,i} {n}_{i}}{H} - \\frac{\\left(- \\frac{{\\mathcal{N}^{th}}_{i}}{{n}_{i}} + 1\\right) {\\Gamma}_{i} {m}_{i}}{H {R}_{i}} + \\frac{\\left(- \\frac{{\\mathcal{N}^{th}}_{j,i}}{{n}_{i}} + \\frac{{n}_{j}}{{n}_{i}}\\right) {\\Gamma}_{j} {\\mathcal{B}^{eff}}_{j,i} {m}_{j}}{H {R}_{j}} + \\frac{\\left(\\frac{{\\bar{n}}_{i} {\\bar{n}}_{j}}{{n}_{i}} - {n}_{j}\\right) {\\langle\\sigma\\text{v}\\rangle}_{i,j}}{H} + \\frac{\\left(\\frac{{\\bar{n}}_{i} {n}_{j}}{{\\bar{n}}_{j} {n}_{i}} - 1\\right) {\\tilde{\\Gamma}_{SM}}_{i,j}}{H} + \\frac{\\left(\\frac{{\\bar{n}}_{i}^{2} {n}_{j}^{2}}{{\\bar{n}}_{j}^{2} {n}_{i}^{2}} - 1\\right) {\\langle\\sigma\\text{v}\\rangle}_{j,j} {n}_{i}}{H}$"
      ],
      "text/plain": [
       "-3 + (\\bar{n}[i]**2/n[i]**2 - 1)*\\langle\\sigma\\text{v}\\rangle[i, i]*n[i]/H - (-\\mathcal{N}^{th}[i]/n[i] + 1)*\\Gamma[i]*m[i]/(H*R[i]) + (-\\mathcal{N}^{th}[j, i]/n[i] + n[j]/n[i])*\\Gamma[j]*\\mathcal{B}^{eff}[j, i]*m[j]/(H*R[j]) + (\\bar{n}[i]*\\bar{n}[j]/n[i] - n[j])*\\langle\\sigma\\text{v}\\rangle[i, j]/H + (\\bar{n}[i]*n[j]/(\\bar{n}[j]*n[i]) - 1)*\\tilde{\\Gamma}_{SM}[i, j]/H + (\\bar{n}[i]**2*n[j]**2/(\\bar{n}[j]**2*n[i]**2) - 1)*\\langle\\sigma\\text{v}\\rangle[j, j]*n[i]/H"
      ]
     },
     "execution_count": 21,
     "metadata": {},
     "output_type": "execute_result"
    }
   ],
   "source": [
    "sp.collect(dNi,coll)"
   ]
  },
  {
   "cell_type": "markdown",
   "metadata": {},
   "source": [
    "### Expansion near equilibrium density for ith-component"
   ]
  },
  {
   "cell_type": "code",
   "execution_count": 8,
   "metadata": {},
   "outputs": [],
   "source": [
    "dNi0 = sp.collect((dNi.replace(n[i],neq[i]*(1+d[i])).replace(Nth[j,i], N0th[j,i] + d[i]*N1th[j,i])).taylor_term(0,d[i]),coll)\n",
    "dNi1 = sp.collect((dNi.replace(n[i],neq[i]*(1+d[i])).replace(Nth[j,i], N0th[j,i] + d[i]*N1th[j,i])).taylor_term(1,d[i]),coll)"
   ]
  },
  {
   "cell_type": "code",
   "execution_count": 22,
   "metadata": {},
   "outputs": [
    {
     "data": {
      "text/latex": [
       "$\\displaystyle -3 + \\frac{\\left(-1 + \\frac{{n}_{j}^{2}}{{\\bar{n}}_{j}^{2}}\\right) {\\bar{n}}_{i} {\\langle\\sigma\\text{v}\\rangle}_{j,j}}{H} + \\frac{\\left(-1 + \\frac{{n}_{j}}{{\\bar{n}}_{j}}\\right) {\\tilde{\\Gamma}_{SM}}_{i,j}}{H} - \\frac{\\left(1 - \\frac{{\\mathcal{N}^{th}}_{i}}{{\\bar{n}}_{i}}\\right) {\\Gamma}_{i} {m}_{i}}{H {R}_{i}} + \\frac{\\left(- \\frac{{\\mathcal{N}^{0th}}_{j,i}}{{\\bar{n}}_{i}} + \\frac{{n}_{j}}{{\\bar{n}}_{i}}\\right) {\\Gamma}_{j} {\\mathcal{B}^{eff}}_{j,i} {m}_{j}}{H {R}_{j}} + \\frac{\\left({\\bar{n}}_{j} - {n}_{j}\\right) {\\langle\\sigma\\text{v}\\rangle}_{i,j}}{H}$"
      ],
      "text/plain": [
       "-3 + (-1 + n[j]**2/\\bar{n}[j]**2)*\\bar{n}[i]*\\langle\\sigma\\text{v}\\rangle[j, j]/H + (-1 + n[j]/\\bar{n}[j])*\\tilde{\\Gamma}_{SM}[i, j]/H - (1 - \\mathcal{N}^{th}[i]/\\bar{n}[i])*\\Gamma[i]*m[i]/(H*R[i]) + (-\\mathcal{N}^{0th}[j, i]/\\bar{n}[i] + n[j]/\\bar{n}[i])*\\Gamma[j]*\\mathcal{B}^{eff}[j, i]*m[j]/(H*R[j]) + (\\bar{n}[j] - n[j])*\\langle\\sigma\\text{v}\\rangle[i, j]/H"
      ]
     },
     "execution_count": 22,
     "metadata": {},
     "output_type": "execute_result"
    }
   ],
   "source": [
    "sp.collect(dNi0,coll) #Zero order in delta_i"
   ]
  },
  {
   "cell_type": "code",
   "execution_count": 23,
   "metadata": {},
   "outputs": [
    {
     "data": {
      "text/latex": [
       "$\\displaystyle \\left(\\frac{\\left(-1 + \\frac{{n}_{j}^{2}}{{\\bar{n}}_{j}^{2}}\\right) {\\bar{n}}_{i} {\\langle\\sigma\\text{v}\\rangle}_{j,j}}{H} + \\frac{\\left(\\frac{{\\mathcal{N}^{0th}}_{j,i}}{{\\bar{n}}_{i}} - \\frac{{\\mathcal{N}^{1th}}_{j,i}}{{\\bar{n}}_{i}} - \\frac{{n}_{j}}{{\\bar{n}}_{i}}\\right) {\\Gamma}_{j} {\\mathcal{B}^{eff}}_{j,i} {m}_{j}}{H {R}_{j}} - \\frac{2 {\\bar{n}}_{i} {\\langle\\sigma\\text{v}\\rangle}_{i,i}}{H} - \\frac{2 {\\bar{n}}_{i} {\\langle\\sigma\\text{v}\\rangle}_{j,j} {n}_{j}^{2}}{H {\\bar{n}}_{j}^{2}} - \\frac{{\\bar{n}}_{j} {\\langle\\sigma\\text{v}\\rangle}_{i,j}}{H} - \\frac{{\\tilde{\\Gamma}_{SM}}_{i,j} {n}_{j}}{H {\\bar{n}}_{j}} - \\frac{{\\Gamma}_{i} {\\mathcal{N}^{th}}_{i} {m}_{i}}{H {R}_{i} {\\bar{n}}_{i}}\\right) {\\delta}_{i}$"
      ],
      "text/plain": [
       "((-1 + n[j]**2/\\bar{n}[j]**2)*\\bar{n}[i]*\\langle\\sigma\\text{v}\\rangle[j, j]/H + (\\mathcal{N}^{0th}[j, i]/\\bar{n}[i] - \\mathcal{N}^{1th}[j, i]/\\bar{n}[i] - n[j]/\\bar{n}[i])*\\Gamma[j]*\\mathcal{B}^{eff}[j, i]*m[j]/(H*R[j]) - 2*\\bar{n}[i]*\\langle\\sigma\\text{v}\\rangle[i, i]/H - 2*\\bar{n}[i]*\\langle\\sigma\\text{v}\\rangle[j, j]*n[j]**2/(H*\\bar{n}[j]**2) - \\bar{n}[j]*\\langle\\sigma\\text{v}\\rangle[i, j]/H - \\tilde{\\Gamma}_{SM}[i, j]*n[j]/(H*\\bar{n}[j]) - \\Gamma[i]*\\mathcal{N}^{th}[i]*m[i]/(H*R[i]*\\bar{n}[i]))*\\delta[i]"
      ]
     },
     "execution_count": 23,
     "metadata": {},
     "output_type": "execute_result"
    }
   ],
   "source": [
    "sp.collect(dNi1,coll) #First order in delta_i"
   ]
  },
  {
   "cell_type": "markdown",
   "metadata": {},
   "source": [
    "### Expansion near equilibrium density for ith- and jth-components"
   ]
  },
  {
   "cell_type": "code",
   "execution_count": 11,
   "metadata": {},
   "outputs": [],
   "source": [
    "dNi00 = sp.collect((dNi0.replace(n[j],neq[j]*(1+d[j])).replace(Nth[i,j],N0th[i,j] + d[j]*N1th[i,j])).taylor_term(0,d[j]),coll)\n",
    "dNi01 = sp.collect((dNi0.replace(n[j],neq[j]*(1+d[j])).replace(Nth[i,j],N0th[i,j] + d[j]*N1th[i,j])).taylor_term(1,d[j]),coll)\n",
    "dNi10 = sp.collect((dNi1.replace(n[j],neq[j]*(1+d[j])).replace(Nth[i,j],N0th[i,j] + d[j]*N1th[i,j])).taylor_term(0,d[j]),coll)"
   ]
  },
  {
   "cell_type": "code",
   "execution_count": 24,
   "metadata": {},
   "outputs": [
    {
     "data": {
      "text/latex": [
       "$\\displaystyle -3 - \\frac{\\left(1 - \\frac{{\\mathcal{N}^{th}}_{i}}{{\\bar{n}}_{i}}\\right) {\\Gamma}_{i} {m}_{i}}{H {R}_{i}} + \\frac{\\left(\\frac{{\\bar{n}}_{j}}{{\\bar{n}}_{i}} - \\frac{{\\mathcal{N}^{0th}}_{j,i}}{{\\bar{n}}_{i}}\\right) {\\Gamma}_{j} {\\mathcal{B}^{eff}}_{j,i} {m}_{j}}{H {R}_{j}}$"
      ],
      "text/plain": [
       "-3 - (1 - \\mathcal{N}^{th}[i]/\\bar{n}[i])*\\Gamma[i]*m[i]/(H*R[i]) + (\\bar{n}[j]/\\bar{n}[i] - \\mathcal{N}^{0th}[j, i]/\\bar{n}[i])*\\Gamma[j]*\\mathcal{B}^{eff}[j, i]*m[j]/(H*R[j])"
      ]
     },
     "execution_count": 24,
     "metadata": {},
     "output_type": "execute_result"
    }
   ],
   "source": [
    "sp.collect(dNi00,coll) #Zero order in delta_i and delta_j"
   ]
  },
  {
   "cell_type": "code",
   "execution_count": 25,
   "metadata": {},
   "outputs": [
    {
     "data": {
      "text/latex": [
       "$\\displaystyle \\left(\\frac{2 {\\bar{n}}_{i} {\\langle\\sigma\\text{v}\\rangle}_{j,j}}{H} - \\frac{{\\bar{n}}_{j} {\\langle\\sigma\\text{v}\\rangle}_{i,j}}{H} + \\frac{{\\tilde{\\Gamma}_{SM}}_{i,j}}{H} + \\frac{{\\Gamma}_{j} {\\bar{n}}_{j} {\\mathcal{B}^{eff}}_{j,i} {m}_{j}}{H {R}_{j} {\\bar{n}}_{i}}\\right) {\\delta}_{j} + \\left(- \\frac{2 {\\bar{n}}_{i} {\\langle\\sigma\\text{v}\\rangle}_{i,i}}{H} - \\frac{2 {\\bar{n}}_{i} {\\langle\\sigma\\text{v}\\rangle}_{j,j}}{H} - \\frac{{\\bar{n}}_{j} {\\langle\\sigma\\text{v}\\rangle}_{i,j}}{H} - \\frac{{\\tilde{\\Gamma}_{SM}}_{i,j}}{H} - \\frac{{\\Gamma}_{j} {\\bar{n}}_{j} {\\mathcal{B}^{eff}}_{j,i} {m}_{j}}{H {R}_{j} {\\bar{n}}_{i}} + \\frac{{\\Gamma}_{j} {\\mathcal{B}^{eff}}_{j,i} {\\mathcal{N}^{0th}}_{j,i} {m}_{j}}{H {R}_{j} {\\bar{n}}_{i}} - \\frac{{\\Gamma}_{j} {\\mathcal{B}^{eff}}_{j,i} {\\mathcal{N}^{1th}}_{j,i} {m}_{j}}{H {R}_{j} {\\bar{n}}_{i}} - \\frac{{\\Gamma}_{i} {\\mathcal{N}^{th}}_{i} {m}_{i}}{H {R}_{i} {\\bar{n}}_{i}}\\right) {\\delta}_{i}$"
      ],
      "text/plain": [
       "(2*\\bar{n}[i]*\\langle\\sigma\\text{v}\\rangle[j, j]/H - \\bar{n}[j]*\\langle\\sigma\\text{v}\\rangle[i, j]/H + \\tilde{\\Gamma}_{SM}[i, j]/H + \\Gamma[j]*\\bar{n}[j]*\\mathcal{B}^{eff}[j, i]*m[j]/(H*R[j]*\\bar{n}[i]))*\\delta[j] + (-2*\\bar{n}[i]*\\langle\\sigma\\text{v}\\rangle[i, i]/H - 2*\\bar{n}[i]*\\langle\\sigma\\text{v}\\rangle[j, j]/H - \\bar{n}[j]*\\langle\\sigma\\text{v}\\rangle[i, j]/H - \\tilde{\\Gamma}_{SM}[i, j]/H - \\Gamma[j]*\\bar{n}[j]*\\mathcal{B}^{eff}[j, i]*m[j]/(H*R[j]*\\bar{n}[i]) + \\Gamma[j]*\\mathcal{B}^{eff}[j, i]*\\mathcal{N}^{0th}[j, i]*m[j]/(H*R[j]*\\bar{n}[i]) - \\Gamma[j]*\\mathcal{B}^{eff}[j, i]*\\mathcal{N}^{1th}[j, i]*m[j]/(H*R[j]*\\bar{n}[i]) - \\Gamma[i]*\\mathcal{N}^{th}[i]*m[i]/(H*R[i]*\\bar{n}[i]))*\\delta[i]"
      ]
     },
     "execution_count": 25,
     "metadata": {},
     "output_type": "execute_result"
    }
   ],
   "source": [
    "sp.collect(sp.expand(dNi01)+sp.expand(dNi10),coll) #First order in delta_i and delta_j"
   ]
  },
  {
   "cell_type": "markdown",
   "metadata": {},
   "source": [
    "#### Expansion of effective number densities:"
   ]
  },
  {
   "cell_type": "code",
   "execution_count": 14,
   "metadata": {},
   "outputs": [],
   "source": [
    "i,j,l,k = sp.symbols('i j l k', integer=True)\n",
    "nDec, nF = sp.symbols('n_{dec}, n_{F}', integer=True)\n",
    "gi,gj = sp.symbols('g_i,g_j')\n",
    "BRlij = sp.symbols(r'BR^{l}(i\\to\\mbox{g}_j\\text{j}+...)')\n",
    "BRlji = sp.symbols(r'BR^{l}(j\\to\\mbox{g}_i\\text{i}+...)')\n",
    "nk,nkeq, dk = sp.symbols(r'n_k \\bar{n}_k delta_k', cls=sp.Symbol)"
   ]
  },
  {
   "cell_type": "code",
   "execution_count": 15,
   "metadata": {},
   "outputs": [],
   "source": [
    "NiExpr = neq[i]*sp.Sum(BR[l,i,j]*sp.Product(n[k]/neq[k],(k,2,nF)),(l,1,nDec))\n",
    "Beffij = sp.Sum(g[j]*BR[l,i,j],(l,1,nDec))\n",
    "NijExpr = (neq[i]/Beffij)*sp.Sum(g[j]*BR[l,i,j]*(n[j]/neq[j])**g[j]*sp.Product(n[k]/neq[k],(k,2,nF)),(l,1,nDec))"
   ]
  },
  {
   "cell_type": "code",
   "execution_count": 16,
   "metadata": {},
   "outputs": [
    {
     "data": {
      "text/latex": [
       "$\\displaystyle {\\bar{n}}_{i} \\sum_{l=1}^{n_{dec}} {BR}_{l,i,j} \\prod_{k=2}^{n_{F}} \\frac{{n}_{k}}{{\\bar{n}}_{k}}$"
      ],
      "text/plain": [
       "\\bar{n}[i]*Sum(BR[l, i, j]*Product(n[k]/\\bar{n}[k], (k, 2, n_{F})), (l, 1, n_{dec}))"
      ]
     },
     "execution_count": 16,
     "metadata": {},
     "output_type": "execute_result"
    }
   ],
   "source": [
    "NiExpr"
   ]
  },
  {
   "cell_type": "code",
   "execution_count": 17,
   "metadata": {},
   "outputs": [
    {
     "data": {
      "text/latex": [
       "$\\displaystyle \\frac{{\\bar{n}}_{i} \\sum_{l=1}^{n_{dec}} \\left(\\frac{{n}_{j}}{{\\bar{n}}_{j}}\\right)^{{g}_{j}} {BR}_{l,i,j} {g}_{j} \\prod_{k=2}^{n_{F}} \\frac{{n}_{k}}{{\\bar{n}}_{k}}}{\\sum_{l=1}^{n_{dec}} {BR}_{l,i,j} {g}_{j}}$"
      ],
      "text/plain": [
       "\\bar{n}[i]*Sum((n[j]/\\bar{n}[j])**g[j]*BR[l, i, j]*g[j]*Product(n[k]/\\bar{n}[k], (k, 2, n_{F})), (l, 1, n_{dec}))/Sum(BR[l, i, j]*g[j], (l, 1, n_{dec}))"
      ]
     },
     "execution_count": 17,
     "metadata": {},
     "output_type": "execute_result"
    }
   ],
   "source": [
    "NijExpr"
   ]
  },
  {
   "cell_type": "code",
   "execution_count": 18,
   "metadata": {},
   "outputs": [],
   "source": [
    "N0ijExpr = (NijExpr.replace(n[i],neq[i]*(1+d[i])).replace(n[j], neq[j]*(1+d[j]))).taylor_term(0,d[i]).taylor_term(0,d[j])\n",
    "N1ijExpr = (NijExpr.replace(n[i],neq[i]*(1+d[i])).replace(n[j], neq[j]*(1+d[j]))).taylor_term(1,d[i]).taylor_term(0,d[j])\n",
    "N1ijExpr += (NijExpr.replace(n[i],neq[i]*(1+d[i])).replace(n[j], neq[j]*(1+d[j]))).taylor_term(0,d[i]).taylor_term(1,d[j])"
   ]
  },
  {
   "cell_type": "code",
   "execution_count": 19,
   "metadata": {},
   "outputs": [
    {
     "data": {
      "text/latex": [
       "$\\displaystyle \\frac{{\\bar{n}}_{i} \\sum_{l=1}^{n_{dec}} {BR}_{l,i,j} {g}_{j} \\prod_{k=2}^{n_{F}} \\frac{{n}_{k}}{{\\bar{n}}_{k}}}{\\sum_{l=1}^{n_{dec}} {BR}_{l,i,j} {g}_{j}}$"
      ],
      "text/plain": [
       "\\bar{n}[i]*Sum(BR[l, i, j]*g[j]*Product(n[k]/\\bar{n}[k], (k, 2, n_{F})), (l, 1, n_{dec}))/Sum(BR[l, i, j]*g[j], (l, 1, n_{dec}))"
      ]
     },
     "execution_count": 19,
     "metadata": {},
     "output_type": "execute_result"
    }
   ],
   "source": [
    "N0ijExpr"
   ]
  },
  {
   "cell_type": "code",
   "execution_count": 20,
   "metadata": {},
   "outputs": [
    {
     "data": {
      "text/latex": [
       "$\\displaystyle \\frac{{\\bar{n}}_{i} {\\delta}_{j} \\sum_{l=1}^{n_{dec}} {BR}_{l,i,j} {g}_{j}^{2} \\prod_{k=2}^{n_{F}} \\frac{{n}_{k}}{{\\bar{n}}_{k}}}{\\sum_{l=1}^{n_{dec}} {BR}_{l,i,j} {g}_{j}}$"
      ],
      "text/plain": [
       "\\bar{n}[i]*\\delta[j]*Sum(BR[l, i, j]*g[j]**2*Product(n[k]/\\bar{n}[k], (k, 2, n_{F})), (l, 1, n_{dec}))/Sum(BR[l, i, j]*g[j], (l, 1, n_{dec}))"
      ]
     },
     "execution_count": 20,
     "metadata": {},
     "output_type": "execute_result"
    }
   ],
   "source": [
    "N1ijExpr"
   ]
  }
 ],
 "metadata": {
  "kernelspec": {
   "display_name": "Python 3",
   "language": "python",
   "name": "python3"
  },
  "language_info": {
   "codemirror_mode": {
    "name": "ipython",
    "version": 3
   },
   "file_extension": ".py",
   "mimetype": "text/x-python",
   "name": "python",
   "nbconvert_exporter": "python",
   "pygments_lexer": "ipython3",
   "version": "3.7.3"
  }
 },
 "nbformat": 4,
 "nbformat_minor": 2
}
