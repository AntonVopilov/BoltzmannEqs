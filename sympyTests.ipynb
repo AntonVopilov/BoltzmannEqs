{
 "cells": [
  {
   "cell_type": "code",
   "execution_count": 1,
   "metadata": {},
   "outputs": [],
   "source": [
    "import numpy as np\n",
    "import sympy\n",
    "from sympy import exp,besselk,pi,Function,sqrt\n",
    "from mpmath import apery"
   ]
  },
  {
   "cell_type": "code",
   "execution_count": 5,
   "metadata": {},
   "outputs": [],
   "source": [
    "class nEQ(sympy.Function):\n",
    "    \"\"\"Returns the equilibrium number density at temperature T. Returns zero for non-thermal components\"\"\"\n",
    "\n",
    "    nargs = 1\n",
    "    \n",
    "    def fdiff(self,argindex = 1):\n",
    "\n",
    "        mass = 500.\n",
    "        dof = -2\n",
    "        Zeta3 = apery\n",
    "        \n",
    "        print('calling with',self.args[0])\n",
    "        \n",
    "        T = self.args[0]\n",
    "        x = T/mass\n",
    "        if x < 0.1:\n",
    "            dneq = mass**2*exp(-1/x)*(256 + 3*x*(288+5*x*(94+49*x)))/(512*sqrt(2)*pi**(3/2)*sqrt(x))\n",
    "        elif x < 1.5:            \n",
    "            dneq = mass**2*(besselk(1,1/x)+besselk(3,1/x))/(2*pi**2*x**2)\n",
    "        else:\n",
    "            if dof > 0: dneq = 3*Zeta3*T**2/pi**2   #Relativistic Bosons\n",
    "            if dof < 0: dneq = 3*(3./4.)*Zeta3*T**2/pi**2   #Relativistic Fermions\n",
    "\n",
    "        return dneq\n",
    "        \n",
    "    @classmethod\n",
    "    def eval(cls,arg):\n",
    "        \n",
    "        mass = 500.\n",
    "        dof = -2\n",
    "        Zeta3 = apery\n",
    "        \n",
    "        T = sympy.sympify(arg)\n",
    "        x = T/mass\n",
    "        if x < 0.1:\n",
    "            neq = mass**3*(x/(2*pi))**(3./2.)*exp(-1/x)*(1. + (15./8.)*x + (105./128.)*x**2) #Non-relativistic\n",
    "        elif x < 1.5:            \n",
    "            neq = mass**3*x*besselk(2,1/x)/(2*pi**2) #Non-relativistic/relativistic\n",
    "        else:\n",
    "            if dof > 0: neq = Zeta3*T**3/pi**2   #Relativistic Bosons\n",
    "            if dof < 0: neq = (3./4.)*Zeta3*T**3/pi**2   #Relativistic Fermions\n",
    "\n",
    "        neq = neq*abs(dof)\n",
    "        return neq.evalf()\n"
   ]
  },
  {
   "cell_type": "code",
   "execution_count": 6,
   "metadata": {},
   "outputs": [],
   "source": [
    "z = sympy.symbols('z')"
   ]
  },
  {
   "cell_type": "code",
   "execution_count": 7,
   "metadata": {},
   "outputs": [
    {
     "data": {
      "text/latex": [
       "$\\displaystyle 1$"
      ],
      "text/plain": [
       "1"
      ]
     },
     "execution_count": 7,
     "metadata": {},
     "output_type": "execute_result"
    }
   ],
   "source": [
    "sympy.diff(nEQ,z)"
   ]
  },
  {
   "cell_type": "code",
   "execution_count": 8,
   "metadata": {},
   "outputs": [],
   "source": [
    "class nEQS(sympy.Function):\n",
    "    \"\"\"Returns the equilibrium number density at temperature T. Returns zero for non-thermal components\"\"\"\n",
    "\n",
    "    nargs = 1\n",
    "    \n",
    "    def fdiff(self,argindex = 1):\n",
    "\n",
    "        mass = 500.\n",
    "        dof = -2\n",
    "        Zeta3 = apery\n",
    "        \n",
    "        T = self.args[0]\n",
    "        x = T/mass\n",
    "        dneq = mass**2*(besselk(1,1/x)+besselk(3,1/x))/(2*pi**2*x**2)\n",
    "\n",
    "        return dneq\n",
    "        \n",
    "    @classmethod\n",
    "    def eval(cls,arg):\n",
    "        \n",
    "        mass = 500.\n",
    "        dof = -2\n",
    "        Zeta3 = apery\n",
    "        \n",
    "        T = sympy.sympify(arg)\n",
    "        x = T/mass\n",
    "        neq = mass**3*x*besselk(2,1/x)/(2*pi**2) #Non-relativistic/relativistic\n",
    "\n",
    "        neq = neq*abs(dof)\n",
    "        return neq\n"
   ]
  },
  {
   "cell_type": "code",
   "execution_count": 27,
   "metadata": {},
   "outputs": [
    {
     "data": {
      "text/latex": [
       "$\\displaystyle 1.2215181831962 \\cdot 10^{-38}$"
      ],
      "text/plain": [
       "1.22151818319620e-38"
      ]
     },
     "execution_count": 27,
     "metadata": {},
     "output_type": "execute_result"
    }
   ],
   "source": [
    "nEQS(z).diff().evalf(subs={z: 5.})"
   ]
  },
  {
   "cell_type": "code",
   "execution_count": 14,
   "metadata": {},
   "outputs": [],
   "source": [
    "?sympy.diff"
   ]
  },
  {
   "cell_type": "code",
   "execution_count": null,
   "metadata": {},
   "outputs": [],
   "source": []
  }
 ],
 "metadata": {
  "kernelspec": {
   "display_name": "Python 3",
   "language": "python",
   "name": "python3"
  },
  "language_info": {
   "codemirror_mode": {
    "name": "ipython",
    "version": 3
   },
   "file_extension": ".py",
   "mimetype": "text/x-python",
   "name": "python",
   "nbconvert_exporter": "python",
   "pygments_lexer": "ipython3",
   "version": "3.6.8"
  }
 },
 "nbformat": 4,
 "nbformat_minor": 2
}
