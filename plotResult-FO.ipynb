{
 "cells": [
  {
   "cell_type": "code",
   "execution_count": 1,
   "metadata": {},
   "outputs": [],
   "source": [
    "import pickle\n",
    "import matplotlib.pyplot as plt\n",
    "import os\n",
    "import numpy as np\n",
    "import seaborn as sns\n",
    "from scipy.special import kn,zetac\n",
    "sns.set() #Set style\n",
    "sns.set_style('ticks',{'font.family':'serif', 'font.serif':'Times New Roman'})\n",
    "sns.set_context('paper', font_scale=1.8)\n",
    "sns.set_palette(sns.color_palette(\"Paired\"))\n",
    "from scipy.interpolate import interp1d"
   ]
  },
  {
   "cell_type": "code",
   "execution_count": 2,
   "metadata": {},
   "outputs": [],
   "source": [
    "f = open('gFunctions.pcl','rb')\n",
    "gSTAR = pickle.load(f)\n",
    "gSTARS = pickle.load(f)\n",
    "Tfunc = pickle.load(f)\n",
    "f.close()"
   ]
  },
  {
   "cell_type": "code",
   "execution_count": 3,
   "metadata": {},
   "outputs": [],
   "source": [
    "@np.vectorize\n",
    "def H(T):\n",
    "    MP = 1.22*10**19\n",
    "    rhoRad = (np.pi**2/30)*gSTAR(T)*T** 4  # thermal bath's energy density    \n",
    "    H = np.sqrt(8*np.pi*rhoRad/3)/MP\n",
    "    \n",
    "    return H\n",
    "\n",
    "@np.vectorize\n",
    "def nEQ(T,dof,mass):\n",
    "    \"\"\"Returns the equilibrium number density at temperature T. Returns zero for non-thermal components\"\"\"\n",
    "\n",
    "    Zeta3 = zetac(3.) + 1.\n",
    "\n",
    "    x = T/mass\n",
    "    if x < 0.1:\n",
    "        neq = mass**3*(x/(2*np.pi))**(3./2.)*np.exp(-1/x)*(1. + (15./8.)*x + (105./128.)*x**2) #Non-relativistic\n",
    "    elif x < 1.5:            \n",
    "        neq = mass**3*x*kn(2,1/x)/(2*np.pi**2) #Non-relativistic/relativistic\n",
    "    else:\n",
    "        if dof > 0: neq = Zeta3*T**3/np.pi**2   #Relativistic Bosons\n",
    "        if dof < 0: neq = (3./4.)*Zeta3*T**3/np.pi**2   #Relativistic Fermions\n",
    "\n",
    "    neq = neq*abs(dof)\n",
    "    return neq\n",
    "\n",
    "#Annihilation rate for mediator\n",
    "data = np.genfromtxt('./width_and_medxs.dat',skip_header=5)\n",
    "dataR = np.genfromtxt('./sigmav_conversion_bchi-sbotg_500_510_1.dat',skip_header=6,usecols=(0,4))\n",
    "conv = 0.8579e17\n",
    "\n",
    "sLog = lambda x: interp1d(data[:,0],np.log(data[:,1]*conv),\n",
    "                    fill_value='extrapolate',bounds_error=False)(x)\n",
    "\n",
    "#Conversion rates for DM and mediator: \n",
    "dofDM = -2 #Number of DM degrees of freedom (Majorana fermion)\n",
    "\n",
    "@np.vectorize\n",
    "def sigmaVJan(T):\n",
    "    x = 500./T\n",
    "    if x > data[:,0].max():\n",
    "        return 0.\n",
    "    sF = sLog(x)\n",
    "    return np.exp(sF)\n"
   ]
  },
  {
   "cell_type": "code",
   "execution_count": 4,
   "metadata": {},
   "outputs": [],
   "source": [
    "with open('result_FO.dat','r') as f:\n",
    "    lines = f.readlines()\n",
    "    omega = eval([l for l in lines\n",
    "                  if 'DM' in l and l[0] == '#'][0].split('Omega h^2 (@TF) =')[-1])\n",
    "    Tdec = [eval(l.split('T(decouple)~=')[-1].split('|')[0]) for l in lines if 'decouple' in l and l[0] == '#']"
   ]
  },
  {
   "cell_type": "code",
   "execution_count": 5,
   "metadata": {},
   "outputs": [],
   "source": [
    "skiplines = 8\n",
    "d = np.genfromtxt('result_FO.dat',names=True,skip_header=skiplines)"
   ]
  },
  {
   "cell_type": "code",
   "execution_count": 6,
   "metadata": {},
   "outputs": [
    {
     "name": "stdout",
     "output_type": "stream",
     "text": [
      "('x', 'T', 'R', 'S', 'n_DM', 'rho_DM')\n"
     ]
    }
   ],
   "source": [
    "print(d.dtype.names)"
   ]
  },
  {
   "cell_type": "code",
   "execution_count": 7,
   "metadata": {},
   "outputs": [],
   "source": [
    "newtype = np.dtype(d.dtype.descr + [('H', '<f8'),('s','<f8'),('neq_DM', '<f8')])\n",
    "newdata = np.zeros(d.shape, dtype=newtype)\n",
    "for name in d.dtype.names:\n",
    "    newdata[name] = d[name]\n",
    "newdata['H'] = H(d['T'])\n",
    "newdata['s'] = gSTARS(d['T'])*(d['T']**3)\n",
    "newdata['neq_DM'] = nEQ(d['T'],-2,500.)\n",
    "d = newdata"
   ]
  },
  {
   "cell_type": "code",
   "execution_count": 8,
   "metadata": {},
   "outputs": [
    {
     "data": {
      "image/png": "[encoded data removed]",
      "text/plain": [
       "<Figure size 432x288 with 1 Axes>"
      ]
     },
     "metadata": {
      "needs_background": "light"
     },
     "output_type": "display_data"
    }
   ],
   "source": [
    "plt.plot(500./d['T'],d['n_DM']/d['s'],label='DM',linewidth=2)\n",
    "plt.plot(500./d['T'],d['neq_DM']/d['s'],'--',label='DM (eq)',linewidth=2)\n",
    "for T in Tdec:\n",
    "    plt.axvline(x=500./T,linestyle=':',color='gray',label=r'$T_{FO}$')\n",
    "plt.xscale('log')\n",
    "plt.yscale('log')\n",
    "lgd = plt.legend(loc=(1.1,0.9),fontsize=15)\n",
    "plt.ylim(1e-18,1e-1)\n",
    "plt.xlim(1,1000)\n",
    "plt.xlabel('x=m/T')\n",
    "plt.ylabel('Yield')\n",
    "plt.text(100.,1e-3,s=r'$\\Omega_{DM} h^2 = %1.3g$' %omega,fontsize=15)\n",
    "# plt.savefig(\"Yield_noConversion.png\", bbox_extra_artists=(lgd,), bbox_inches='tight')\n",
    "plt.show()"
   ]
  },
  {
   "cell_type": "code",
   "execution_count": null,
   "metadata": {},
   "outputs": [],
   "source": []
  }
 ],
 "metadata": {
  "kernelspec": {
   "display_name": "Python 3",
   "language": "python",
   "name": "python3"
  },
  "language_info": {
   "codemirror_mode": {
    "name": "ipython",
    "version": 3
   },
   "file_extension": ".py",
   "mimetype": "text/x-python",
   "name": "python",
   "nbconvert_exporter": "python",
   "pygments_lexer": "ipython3",
   "version": "3.7.3"
  }
 },
 "nbformat": 4,
 "nbformat_minor": 2
}
