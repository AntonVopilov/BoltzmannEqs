{
 "cells": [
  {
   "cell_type": "code",
   "execution_count": 1,
   "metadata": {},
   "outputs": [
    {
     "name": "stderr",
     "output_type": "stream",
     "text": [
      "INFO:pyCode.AuxFuncs:Loading aux functions. Ignoring BSM corrections to g* and g*_S\n"
     ]
    }
   ],
   "source": [
    "from pyCode.AuxDecays import DecayList,Decay\n",
    "from pyCode.component import Component\n",
    "from pyCode.EqFunctions import T as Tfunc\n",
    "from pyCode.EqFunctions import H as Hfunc"
   ]
  },
  {
   "cell_type": "code",
   "execution_count": 2,
   "metadata": {},
   "outputs": [],
   "source": [
    "import numpy as np\n",
    "import sympy as sp"
   ]
  },
  {
   "cell_type": "code",
   "execution_count": 3,
   "metadata": {},
   "outputs": [],
   "source": [
    "lamb = 0.17\n",
    "decays = DecayList()\n",
    "decayToDM = Decay(instate='Mediator',fstates=['DM','radiation'],br=1.)\n",
    "decays.addDecay(decayToDM)\n",
    "decays.Xfraction = 0.1\n",
    "decays.width = 2.49e-15*(lamb/4.3e-7)**2\n",
    "dofDM = -2\n",
    "dofMed = 6\n",
    "dm = Component(label='DM',Type='thermal',dof=dofDM, mass=500.)\n",
    "mediator = Component(label='Mediator',Type='thermal',dof=dofMed, mass=510.,decays=decays)\n",
    "components = [dm,mediator]"
   ]
  },
  {
   "cell_type": "code",
   "execution_count": 5,
   "metadata": {},
   "outputs": [],
   "source": [
    "#Store the number of components:\n",
    "nComp = len(components)\n",
    "\n",
    "n = np.array(sp.symbols('n:%d'%nComp))\n",
    "Ri = np.array(sp.symbols('R:%d'%nComp))\n",
    "NS = sp.symbols('NS')\n",
    "x = sp.symbols('x')\n",
    "T = Tfunc(x,NS)\n",
    "\n",
    "#Current energy densities:\n",
    "rho = n*Ri\n",
    "\n",
    "#Compute equilibrium densities:\n",
    "neq = np.array([comp.nEQ(T) for comp in components])\n",
    "\n",
    "#Compute ratio of equilibrium densities\n",
    "#(helps with numerical instabilities)\n",
    "#rNeq[i,j] = neq[i]/neq[j]\n",
    "rNeq = np.array([[compi.rNeq(T,compj) if compi.active and compj.active else 0. for compj in components] \n",
    "                 for compi in components])\n",
    "\n",
    "#Dictionary with label:index mapping:\n",
    "labelsDict = dict([[comp.label,i] for i,comp in enumerate(components)])\n",
    "isActive = np.array([comp.active for comp in components])\n",
    "\n",
    "rhoTot = np.sum(rho,where=isActive,initial=0)\n",
    "\n",
    "#Compute Hubble factor:\n",
    "H = Hfunc(T,rhoTot)\n",
    "\n",
    "#Effective equilibrium densities and BRs:\n",
    "NXth = np.array([comp.getNXTh(T,n,rNeq,labelsDict) for comp in components])\n",
    "widths = np.array([comp.width(T) for comp in components])\n",
    "masses = np.array([comp.mass(T) for comp in components])\n",
    "BRX = np.array([comp.getBRX(T) for comp in components])\n",
    "sigmaV = np.array([comp.getSIGV(T) for comp in components])"
   ]
  },
  {
   "cell_type": "code",
   "execution_count": 6,
   "metadata": {},
   "outputs": [],
   "source": [
    "RHS = -3*n\n",
    "#Decay term:\n",
    "RHS -= widths*masses*n/(Ri)\n",
    "#Inverse decay term:\n",
    "RHS += widths*masses*NXth/(Ri) #NXth should be finite if i -> j +..\n",
    "#Annihilation term:            \n",
    "RHS += sigmaV*(neq - n)*(neq + n)/H"
   ]
  },
  {
   "cell_type": "code",
   "execution_count": 15,
   "metadata": {},
   "outputs": [
    {
     "data": {
      "text/latex": [
       "$\\displaystyle - 3 n_{1} + \\frac{0.198486262844781 n_{0} \\left(\\frac{\\left(- \\theta\\left(0.1 - 0.002 T{\\left(x,NS \\right)}\\right) \\theta\\left(0.1 - 0.00196078431372549 T{\\left(x,NS \\right)}\\right) + 1.0\\right) \\left(\\frac{24432.1407166871 \\left(3.15383506343714 \\cdot 10^{-6} T^{2}{\\left(x,NS \\right)} + 0.00367647058823529 T{\\left(x,NS \\right)} + 1.0\\right) T^{1.5}{\\left(x,NS \\right)} e^{- \\frac{510.0}{T{\\left(x,NS \\right)}}} \\theta\\left(0.1 - 0.00196078431372549 T{\\left(x,NS \\right)}\\right)}{\\pi^{1.5}} + \\frac{7.21234141895757 T^{3}{\\left(x,NS \\right)} \\theta\\left(0.00196078431372549 T{\\left(x,NS \\right)} - 1.5\\right)}{\\pi^{2}} + \\frac{780300.0 T{\\left(x,NS \\right)} \\theta\\left(1.5 - 0.00196078431372549 T{\\left(x,NS \\right)}\\right) \\theta\\left(0.00196078431372549 T{\\left(x,NS \\right)} - 0.1\\right) K_{2}\\left(\\frac{510.0}{T{\\left(x,NS \\right)}}\\right)}{\\pi^{2}}\\right)}{\\frac{7905.69415042095 \\left(3.28125 \\cdot 10^{-6} T^{2}{\\left(x,NS \\right)} + 0.00375 T{\\left(x,NS \\right)} + 1.0\\right) T^{1.5}{\\left(x,NS \\right)} e^{- \\frac{500.0}{T{\\left(x,NS \\right)}}} \\theta\\left(0.1 - 0.002 T{\\left(x,NS \\right)}\\right)}{\\pi^{1.5}} + \\frac{1.80308535473939 T^{3}{\\left(x,NS \\right)} \\theta\\left(0.002 T{\\left(x,NS \\right)} - 1.5\\right)}{\\pi^{2}} + \\frac{250000.0 T{\\left(x,NS \\right)} \\theta\\left(1.5 - 0.002 T{\\left(x,NS \\right)}\\right) \\theta\\left(0.002 T{\\left(x,NS \\right)} - 0.1\\right) K_{2}\\left(\\frac{500.0}{T{\\left(x,NS \\right)}}\\right)}{\\pi^{2}}} + \\frac{3.0904485111388 \\left(3.15383506343714 \\cdot 10^{-6} T^{2}{\\left(x,NS \\right)} + 0.00367647058823529 T{\\left(x,NS \\right)} + 1.0\\right) e^{- \\frac{10.0}{T{\\left(x,NS \\right)}}} \\theta\\left(0.1 - 0.002 T{\\left(x,NS \\right)}\\right) \\theta\\left(0.1 - 0.00196078431372549 T{\\left(x,NS \\right)}\\right)}{3.28125 \\cdot 10^{-6} T^{2}{\\left(x,NS \\right)} + 0.00375 T{\\left(x,NS \\right)} + 1.0}\\right)}{R_{1}} - \\frac{0.198486262844781 n_{1}}{R_{1}}$"
      ],
      "text/plain": [
       "-3*n1 + 0.198486262844781*n0*((-Heaviside(0.1 - 0.002*T(x, NS), 1.0)*Heaviside(0.1 - 0.00196078431372549*T(x, NS), 1.0) + 1.0)*(24432.1407166871*pi**(-1.5)*(3.15383506343714e-6*T(x, NS)**2 + 0.00367647058823529*T(x, NS) + 1.0)*T(x, NS)**1.5*exp(-510.0/T(x, NS))*Heaviside(0.1 - 0.00196078431372549*T(x, NS), 1.0) + 7.21234141895757*T(x, NS)**3*Heaviside(0.00196078431372549*T(x, NS) - 1.5, 0.0)/pi**2 + 780300.0*T(x, NS)*Heaviside(1.5 - 0.00196078431372549*T(x, NS), 1.0)*Heaviside(0.00196078431372549*T(x, NS) - 0.1, 0.0)*besselk(2, 510.0/T(x, NS))/pi**2)/(7905.69415042095*pi**(-1.5)*(3.28125e-6*T(x, NS)**2 + 0.00375*T(x, NS) + 1.0)*T(x, NS)**1.5*exp(-500.0/T(x, NS))*Heaviside(0.1 - 0.002*T(x, NS), 1.0) + 1.80308535473939*T(x, NS)**3*Heaviside(0.002*T(x, NS) - 1.5, 0.0)/pi**2 + 250000.0*T(x, NS)*Heaviside(1.5 - 0.002*T(x, NS), 1.0)*Heaviside(0.002*T(x, NS) - 0.1, 0.0)*besselk(2, 500.0/T(x, NS))/pi**2) + 3.0904485111388*(3.15383506343714e-6*T(x, NS)**2 + 0.00367647058823529*T(x, NS) + 1.0)*exp(-10.0/T(x, NS))*Heaviside(0.1 - 0.002*T(x, NS), 1.0)*Heaviside(0.1 - 0.00196078431372549*T(x, NS), 1.0)/(3.28125e-6*T(x, NS)**2 + 0.00375*T(x, NS) + 1.0))/R1 - 0.198486262844781*n1/R1"
      ]
     },
     "execution_count": 15,
     "metadata": {},
     "output_type": "execute_result"
    }
   ],
   "source": [
    "RHS[1]"
   ]
  },
  {
   "cell_type": "code",
   "execution_count": 8,
   "metadata": {},
   "outputs": [],
   "source": [
    "fff = sp.lambdify([x,n,Ri,NS],RHS, modules=[{'DiracDelta' : lambda z: 0.},'numpy','sympy'])"
   ]
  },
  {
   "cell_type": "code",
   "execution_count": 9,
   "metadata": {},
   "outputs": [
    {
     "data": {
      "text/plain": [
       "[-30.0, nan]"
      ]
     },
     "execution_count": 9,
     "metadata": {},
     "output_type": "execute_result"
    }
   ],
   "source": [
    "fff(1.,np.array([10.,1.]),np.array([600.,600.]),2.)"
   ]
  },
  {
   "cell_type": "code",
   "execution_count": 10,
   "metadata": {},
   "outputs": [],
   "source": [
    "ff = sp.lambdify([x,NS],Tfunc(x,NS))"
   ]
  },
  {
   "cell_type": "code",
   "execution_count": 11,
   "metadata": {},
   "outputs": [
    {
     "data": {
      "text/plain": [
       "0.25406166871224"
      ]
     },
     "execution_count": 11,
     "metadata": {},
     "output_type": "execute_result"
    }
   ],
   "source": [
    "ff(1.,2.)"
   ]
  },
  {
   "cell_type": "code",
   "execution_count": 9,
   "metadata": {},
   "outputs": [
    {
     "ename": "ValueError",
     "evalue": "\nCan't calculate derivative wrt T(x, NS).",
     "output_type": "error",
     "traceback": [
      "\u001b[0;31m---------------------------------------------------------------------------\u001b[0m",
      "\u001b[0;31mValueError\u001b[0m                                Traceback (most recent call last)",
      "\u001b[0;32m<ipython-input-9-6d44fbafc23a>\u001b[0m in \u001b[0;36m<module>\u001b[0;34m\u001b[0m\n\u001b[1;32m      1\u001b[0m \u001b[0mvv\u001b[0m \u001b[0;34m=\u001b[0m \u001b[0mnp\u001b[0m\u001b[0;34m.\u001b[0m\u001b[0mhstack\u001b[0m\u001b[0;34m(\u001b[0m\u001b[0;34m(\u001b[0m\u001b[0mn\u001b[0m\u001b[0;34m,\u001b[0m\u001b[0mRi\u001b[0m\u001b[0;34m,\u001b[0m\u001b[0;34m[\u001b[0m\u001b[0mT\u001b[0m\u001b[0;34m]\u001b[0m\u001b[0;34m)\u001b[0m\u001b[0;34m)\u001b[0m\u001b[0;34m\u001b[0m\u001b[0;34m\u001b[0m\u001b[0m\n\u001b[0;32m----> 2\u001b[0;31m \u001b[0mjac\u001b[0m \u001b[0;34m=\u001b[0m \u001b[0msp\u001b[0m\u001b[0;34m.\u001b[0m\u001b[0mMatrix\u001b[0m\u001b[0;34m(\u001b[0m\u001b[0mRHS\u001b[0m\u001b[0;34m)\u001b[0m\u001b[0;34m.\u001b[0m\u001b[0mjacobian\u001b[0m\u001b[0;34m(\u001b[0m\u001b[0mvv\u001b[0m\u001b[0;34m)\u001b[0m\u001b[0;34m\u001b[0m\u001b[0;34m\u001b[0m\u001b[0m\n\u001b[0m\u001b[1;32m      3\u001b[0m \u001b[0mjacf\u001b[0m \u001b[0;34m=\u001b[0m \u001b[0msp\u001b[0m\u001b[0;34m.\u001b[0m\u001b[0mlambdify\u001b[0m\u001b[0;34m(\u001b[0m\u001b[0mvv\u001b[0m\u001b[0;34m,\u001b[0m\u001b[0mjac\u001b[0m\u001b[0;34m,\u001b[0m\u001b[0mmodules\u001b[0m\u001b[0;34m=\u001b[0m\u001b[0;34m[\u001b[0m\u001b[0;34m{\u001b[0m\u001b[0;34m'DiracDelta'\u001b[0m \u001b[0;34m:\u001b[0m \u001b[0;32mlambda\u001b[0m \u001b[0mx\u001b[0m\u001b[0;34m:\u001b[0m \u001b[0;36m0.\u001b[0m\u001b[0;34m}\u001b[0m\u001b[0;34m,\u001b[0m\u001b[0;34m'numpy'\u001b[0m\u001b[0;34m,\u001b[0m\u001b[0;34m'sympy'\u001b[0m\u001b[0;34m]\u001b[0m\u001b[0;34m)\u001b[0m\u001b[0;34m\u001b[0m\u001b[0;34m\u001b[0m\u001b[0m\n",
      "\u001b[0;32m~/.local/lib/python3.7/site-packages/sympy/matrices/matrices.py\u001b[0m in \u001b[0;36mjacobian\u001b[0;34m(self, X)\u001b[0m\n\u001b[1;32m   1881\u001b[0m         \u001b[0;31m# m is the number of functions and n is the number of variables\u001b[0m\u001b[0;34m\u001b[0m\u001b[0;34m\u001b[0m\u001b[0;34m\u001b[0m\u001b[0m\n\u001b[1;32m   1882\u001b[0m         \u001b[0;31m# computing the Jacobian is now easy:\u001b[0m\u001b[0;34m\u001b[0m\u001b[0;34m\u001b[0m\u001b[0;34m\u001b[0m\u001b[0m\n\u001b[0;32m-> 1883\u001b[0;31m         \u001b[0;32mreturn\u001b[0m \u001b[0mself\u001b[0m\u001b[0;34m.\u001b[0m\u001b[0m_new\u001b[0m\u001b[0;34m(\u001b[0m\u001b[0mm\u001b[0m\u001b[0;34m,\u001b[0m \u001b[0mn\u001b[0m\u001b[0;34m,\u001b[0m \u001b[0;32mlambda\u001b[0m \u001b[0mj\u001b[0m\u001b[0;34m,\u001b[0m \u001b[0mi\u001b[0m\u001b[0;34m:\u001b[0m \u001b[0mself\u001b[0m\u001b[0;34m[\u001b[0m\u001b[0mj\u001b[0m\u001b[0;34m]\u001b[0m\u001b[0;34m.\u001b[0m\u001b[0mdiff\u001b[0m\u001b[0;34m(\u001b[0m\u001b[0mX\u001b[0m\u001b[0;34m[\u001b[0m\u001b[0mi\u001b[0m\u001b[0;34m]\u001b[0m\u001b[0;34m)\u001b[0m\u001b[0;34m)\u001b[0m\u001b[0;34m\u001b[0m\u001b[0;34m\u001b[0m\u001b[0m\n\u001b[0m\u001b[1;32m   1884\u001b[0m \u001b[0;34m\u001b[0m\u001b[0m\n\u001b[1;32m   1885\u001b[0m     \u001b[0;32mdef\u001b[0m \u001b[0mlimit\u001b[0m\u001b[0;34m(\u001b[0m\u001b[0mself\u001b[0m\u001b[0;34m,\u001b[0m \u001b[0;34m*\u001b[0m\u001b[0margs\u001b[0m\u001b[0;34m)\u001b[0m\u001b[0;34m:\u001b[0m\u001b[0;34m\u001b[0m\u001b[0;34m\u001b[0m\u001b[0m\n",
      "\u001b[0;32m~/.local/lib/python3.7/site-packages/sympy/matrices/dense.py\u001b[0m in \u001b[0;36m_new\u001b[0;34m(cls, *args, **kwargs)\u001b[0m\n\u001b[1;32m    443\u001b[0m             \u001b[0mrows\u001b[0m\u001b[0;34m,\u001b[0m \u001b[0mcols\u001b[0m\u001b[0;34m,\u001b[0m \u001b[0mflat_list\u001b[0m \u001b[0;34m=\u001b[0m \u001b[0margs\u001b[0m\u001b[0;34m\u001b[0m\u001b[0;34m\u001b[0m\u001b[0m\n\u001b[1;32m    444\u001b[0m         \u001b[0;32melse\u001b[0m\u001b[0;34m:\u001b[0m\u001b[0;34m\u001b[0m\u001b[0;34m\u001b[0m\u001b[0m\n\u001b[0;32m--> 445\u001b[0;31m             \u001b[0mrows\u001b[0m\u001b[0;34m,\u001b[0m \u001b[0mcols\u001b[0m\u001b[0;34m,\u001b[0m \u001b[0mflat_list\u001b[0m \u001b[0;34m=\u001b[0m \u001b[0mcls\u001b[0m\u001b[0;34m.\u001b[0m\u001b[0m_handle_creation_inputs\u001b[0m\u001b[0;34m(\u001b[0m\u001b[0;34m*\u001b[0m\u001b[0margs\u001b[0m\u001b[0;34m,\u001b[0m \u001b[0;34m**\u001b[0m\u001b[0mkwargs\u001b[0m\u001b[0;34m)\u001b[0m\u001b[0;34m\u001b[0m\u001b[0;34m\u001b[0m\u001b[0m\n\u001b[0m\u001b[1;32m    446\u001b[0m             \u001b[0mflat_list\u001b[0m \u001b[0;34m=\u001b[0m \u001b[0mlist\u001b[0m\u001b[0;34m(\u001b[0m\u001b[0mflat_list\u001b[0m\u001b[0;34m)\u001b[0m \u001b[0;31m# create a shallow copy\u001b[0m\u001b[0;34m\u001b[0m\u001b[0;34m\u001b[0m\u001b[0m\n\u001b[1;32m    447\u001b[0m         \u001b[0mself\u001b[0m \u001b[0;34m=\u001b[0m \u001b[0mobject\u001b[0m\u001b[0;34m.\u001b[0m\u001b[0m__new__\u001b[0m\u001b[0;34m(\u001b[0m\u001b[0mcls\u001b[0m\u001b[0;34m)\u001b[0m\u001b[0;34m\u001b[0m\u001b[0;34m\u001b[0m\u001b[0m\n",
      "\u001b[0;32m~/.local/lib/python3.7/site-packages/sympy/matrices/matrices.py\u001b[0m in \u001b[0;36m_handle_creation_inputs\u001b[0;34m(cls, *args, **kwargs)\u001b[0m\n\u001b[1;32m   2337\u001b[0m                     flat_list.extend(\n\u001b[1;32m   2338\u001b[0m                         [cls._sympify(op(cls._sympify(i), cls._sympify(j)))\n\u001b[0;32m-> 2339\u001b[0;31m                          for j in range(cols)])\n\u001b[0m\u001b[1;32m   2340\u001b[0m \u001b[0;34m\u001b[0m\u001b[0m\n\u001b[1;32m   2341\u001b[0m             \u001b[0;31m# Matrix(2, 2, [1, 2, 3, 4])\u001b[0m\u001b[0;34m\u001b[0m\u001b[0;34m\u001b[0m\u001b[0;34m\u001b[0m\u001b[0m\n",
      "\u001b[0;32m~/.local/lib/python3.7/site-packages/sympy/matrices/matrices.py\u001b[0m in \u001b[0;36m<listcomp>\u001b[0;34m(.0)\u001b[0m\n\u001b[1;32m   2337\u001b[0m                     flat_list.extend(\n\u001b[1;32m   2338\u001b[0m                         [cls._sympify(op(cls._sympify(i), cls._sympify(j)))\n\u001b[0;32m-> 2339\u001b[0;31m                          for j in range(cols)])\n\u001b[0m\u001b[1;32m   2340\u001b[0m \u001b[0;34m\u001b[0m\u001b[0m\n\u001b[1;32m   2341\u001b[0m             \u001b[0;31m# Matrix(2, 2, [1, 2, 3, 4])\u001b[0m\u001b[0;34m\u001b[0m\u001b[0;34m\u001b[0m\u001b[0;34m\u001b[0m\u001b[0m\n",
      "\u001b[0;32m~/.local/lib/python3.7/site-packages/sympy/matrices/matrices.py\u001b[0m in \u001b[0;36m<lambda>\u001b[0;34m(j, i)\u001b[0m\n\u001b[1;32m   1881\u001b[0m         \u001b[0;31m# m is the number of functions and n is the number of variables\u001b[0m\u001b[0;34m\u001b[0m\u001b[0;34m\u001b[0m\u001b[0;34m\u001b[0m\u001b[0m\n\u001b[1;32m   1882\u001b[0m         \u001b[0;31m# computing the Jacobian is now easy:\u001b[0m\u001b[0;34m\u001b[0m\u001b[0;34m\u001b[0m\u001b[0;34m\u001b[0m\u001b[0m\n\u001b[0;32m-> 1883\u001b[0;31m         \u001b[0;32mreturn\u001b[0m \u001b[0mself\u001b[0m\u001b[0;34m.\u001b[0m\u001b[0m_new\u001b[0m\u001b[0;34m(\u001b[0m\u001b[0mm\u001b[0m\u001b[0;34m,\u001b[0m \u001b[0mn\u001b[0m\u001b[0;34m,\u001b[0m \u001b[0;32mlambda\u001b[0m \u001b[0mj\u001b[0m\u001b[0;34m,\u001b[0m \u001b[0mi\u001b[0m\u001b[0;34m:\u001b[0m \u001b[0mself\u001b[0m\u001b[0;34m[\u001b[0m\u001b[0mj\u001b[0m\u001b[0;34m]\u001b[0m\u001b[0;34m.\u001b[0m\u001b[0mdiff\u001b[0m\u001b[0;34m(\u001b[0m\u001b[0mX\u001b[0m\u001b[0;34m[\u001b[0m\u001b[0mi\u001b[0m\u001b[0;34m]\u001b[0m\u001b[0;34m)\u001b[0m\u001b[0;34m)\u001b[0m\u001b[0;34m\u001b[0m\u001b[0;34m\u001b[0m\u001b[0m\n\u001b[0m\u001b[1;32m   1884\u001b[0m \u001b[0;34m\u001b[0m\u001b[0m\n\u001b[1;32m   1885\u001b[0m     \u001b[0;32mdef\u001b[0m \u001b[0mlimit\u001b[0m\u001b[0;34m(\u001b[0m\u001b[0mself\u001b[0m\u001b[0;34m,\u001b[0m \u001b[0;34m*\u001b[0m\u001b[0margs\u001b[0m\u001b[0;34m)\u001b[0m\u001b[0;34m:\u001b[0m\u001b[0;34m\u001b[0m\u001b[0;34m\u001b[0m\u001b[0m\n",
      "\u001b[0;32m~/.local/lib/python3.7/site-packages/sympy/core/expr.py\u001b[0m in \u001b[0;36mdiff\u001b[0;34m(self, *symbols, **assumptions)\u001b[0m\n\u001b[1;32m   3093\u001b[0m     \u001b[0;32mdef\u001b[0m \u001b[0mdiff\u001b[0m\u001b[0;34m(\u001b[0m\u001b[0mself\u001b[0m\u001b[0;34m,\u001b[0m \u001b[0;34m*\u001b[0m\u001b[0msymbols\u001b[0m\u001b[0;34m,\u001b[0m \u001b[0;34m**\u001b[0m\u001b[0massumptions\u001b[0m\u001b[0;34m)\u001b[0m\u001b[0;34m:\u001b[0m\u001b[0;34m\u001b[0m\u001b[0;34m\u001b[0m\u001b[0m\n\u001b[1;32m   3094\u001b[0m         \u001b[0massumptions\u001b[0m\u001b[0;34m.\u001b[0m\u001b[0msetdefault\u001b[0m\u001b[0;34m(\u001b[0m\u001b[0;34m\"evaluate\"\u001b[0m\u001b[0;34m,\u001b[0m \u001b[0;32mTrue\u001b[0m\u001b[0;34m)\u001b[0m\u001b[0;34m\u001b[0m\u001b[0;34m\u001b[0m\u001b[0m\n\u001b[0;32m-> 3095\u001b[0;31m         \u001b[0;32mreturn\u001b[0m \u001b[0mDerivative\u001b[0m\u001b[0;34m(\u001b[0m\u001b[0mself\u001b[0m\u001b[0;34m,\u001b[0m \u001b[0;34m*\u001b[0m\u001b[0msymbols\u001b[0m\u001b[0;34m,\u001b[0m \u001b[0;34m**\u001b[0m\u001b[0massumptions\u001b[0m\u001b[0;34m)\u001b[0m\u001b[0;34m\u001b[0m\u001b[0;34m\u001b[0m\u001b[0m\n\u001b[0m\u001b[1;32m   3096\u001b[0m \u001b[0;34m\u001b[0m\u001b[0m\n\u001b[1;32m   3097\u001b[0m     \u001b[0;31m###########################################################################\u001b[0m\u001b[0;34m\u001b[0m\u001b[0;34m\u001b[0m\u001b[0;34m\u001b[0m\u001b[0m\n",
      "\u001b[0;32m~/.local/lib/python3.7/site-packages/sympy/core/function.py\u001b[0m in \u001b[0;36m__new__\u001b[0;34m(cls, expr, *variables, **kwargs)\u001b[0m\n\u001b[1;32m   1285\u001b[0m                 raise ValueError(filldedent('''\n\u001b[1;32m   1286\u001b[0m                     Can't calculate derivative wrt %s.%s''' % (v,\n\u001b[0;32m-> 1287\u001b[0;31m                     __)))\n\u001b[0m\u001b[1;32m   1288\u001b[0m \u001b[0;34m\u001b[0m\u001b[0m\n\u001b[1;32m   1289\u001b[0m         \u001b[0;31m# We make a special case for 0th derivative, because there is no\u001b[0m\u001b[0;34m\u001b[0m\u001b[0;34m\u001b[0m\u001b[0;34m\u001b[0m\u001b[0m\n",
      "\u001b[0;31mValueError\u001b[0m: \nCan't calculate derivative wrt T(x, NS)."
     ]
    }
   ],
   "source": [
    "vv = np.hstack((n,Ri,[T]))\n",
    "jac = sp.Matrix(RHS).jacobian(vv)\n",
    "jacf = sp.lambdify(vv,jac,modules=[{'DiracDelta' : lambda x: 0.},'numpy','sympy'])"
   ]
  },
  {
   "cell_type": "code",
   "execution_count": null,
   "metadata": {},
   "outputs": [],
   "source": [
    "jacf(10.,1.,600.,600.,1000.)"
   ]
  },
  {
   "cell_type": "code",
   "execution_count": null,
   "metadata": {},
   "outputs": [],
   "source": []
  }
 ],
 "metadata": {
  "kernelspec": {
   "display_name": "Python 3",
   "language": "python",
   "name": "python3"
  },
  "language_info": {
   "codemirror_mode": {
    "name": "ipython",
    "version": 3
   },
   "file_extension": ".py",
   "mimetype": "text/x-python",
   "name": "python",
   "nbconvert_exporter": "python",
   "pygments_lexer": "ipython3",
   "version": "3.7.3"
  }
 },
 "nbformat": 4,
 "nbformat_minor": 2
}
